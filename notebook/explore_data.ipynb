{
 "cells": [
  {
   "cell_type": "markdown",
   "id": "1f45099e",
   "metadata": {},
   "source": [
    "### Import libraries"
   ]
  },
  {
   "cell_type": "code",
   "execution_count": 193,
   "id": "87569df4",
   "metadata": {},
   "outputs": [],
   "source": [
    "import numpy as np\n",
    "import pandas as pd\n"
   ]
  },
  {
   "cell_type": "code",
   "execution_count": 194,
   "id": "1a650805",
   "metadata": {},
   "outputs": [],
   "source": [
    "df = pd.read_excel(r\"D:\\Melbin\\SELF\\Customer_Lifetime_Value_Prediction\\data\\Online Retail.xlsx\")"
   ]
  },
  {
   "cell_type": "code",
   "execution_count": 195,
   "id": "f7d19864",
   "metadata": {},
   "outputs": [
    {
     "data": {
      "text/html": [
       "<div>\n",
       "<style scoped>\n",
       "    .dataframe tbody tr th:only-of-type {\n",
       "        vertical-align: middle;\n",
       "    }\n",
       "\n",
       "    .dataframe tbody tr th {\n",
       "        vertical-align: top;\n",
       "    }\n",
       "\n",
       "    .dataframe thead th {\n",
       "        text-align: right;\n",
       "    }\n",
       "</style>\n",
       "<table border=\"1\" class=\"dataframe\">\n",
       "  <thead>\n",
       "    <tr style=\"text-align: right;\">\n",
       "      <th></th>\n",
       "      <th>InvoiceNo</th>\n",
       "      <th>StockCode</th>\n",
       "      <th>Description</th>\n",
       "      <th>Quantity</th>\n",
       "      <th>InvoiceDate</th>\n",
       "      <th>UnitPrice</th>\n",
       "      <th>CustomerID</th>\n",
       "      <th>Country</th>\n",
       "    </tr>\n",
       "  </thead>\n",
       "  <tbody>\n",
       "    <tr>\n",
       "      <th>0</th>\n",
       "      <td>536365</td>\n",
       "      <td>85123A</td>\n",
       "      <td>WHITE HANGING HEART T-LIGHT HOLDER</td>\n",
       "      <td>6</td>\n",
       "      <td>2010-12-01 08:26:00</td>\n",
       "      <td>2.55</td>\n",
       "      <td>17850.0</td>\n",
       "      <td>United Kingdom</td>\n",
       "    </tr>\n",
       "    <tr>\n",
       "      <th>1</th>\n",
       "      <td>536365</td>\n",
       "      <td>71053</td>\n",
       "      <td>WHITE METAL LANTERN</td>\n",
       "      <td>6</td>\n",
       "      <td>2010-12-01 08:26:00</td>\n",
       "      <td>3.39</td>\n",
       "      <td>17850.0</td>\n",
       "      <td>United Kingdom</td>\n",
       "    </tr>\n",
       "    <tr>\n",
       "      <th>2</th>\n",
       "      <td>536365</td>\n",
       "      <td>84406B</td>\n",
       "      <td>CREAM CUPID HEARTS COAT HANGER</td>\n",
       "      <td>8</td>\n",
       "      <td>2010-12-01 08:26:00</td>\n",
       "      <td>2.75</td>\n",
       "      <td>17850.0</td>\n",
       "      <td>United Kingdom</td>\n",
       "    </tr>\n",
       "    <tr>\n",
       "      <th>3</th>\n",
       "      <td>536365</td>\n",
       "      <td>84029G</td>\n",
       "      <td>KNITTED UNION FLAG HOT WATER BOTTLE</td>\n",
       "      <td>6</td>\n",
       "      <td>2010-12-01 08:26:00</td>\n",
       "      <td>3.39</td>\n",
       "      <td>17850.0</td>\n",
       "      <td>United Kingdom</td>\n",
       "    </tr>\n",
       "    <tr>\n",
       "      <th>4</th>\n",
       "      <td>536365</td>\n",
       "      <td>84029E</td>\n",
       "      <td>RED WOOLLY HOTTIE WHITE HEART.</td>\n",
       "      <td>6</td>\n",
       "      <td>2010-12-01 08:26:00</td>\n",
       "      <td>3.39</td>\n",
       "      <td>17850.0</td>\n",
       "      <td>United Kingdom</td>\n",
       "    </tr>\n",
       "  </tbody>\n",
       "</table>\n",
       "</div>"
      ],
      "text/plain": [
       "  InvoiceNo StockCode                          Description  Quantity  \\\n",
       "0    536365    85123A   WHITE HANGING HEART T-LIGHT HOLDER         6   \n",
       "1    536365     71053                  WHITE METAL LANTERN         6   \n",
       "2    536365    84406B       CREAM CUPID HEARTS COAT HANGER         8   \n",
       "3    536365    84029G  KNITTED UNION FLAG HOT WATER BOTTLE         6   \n",
       "4    536365    84029E       RED WOOLLY HOTTIE WHITE HEART.         6   \n",
       "\n",
       "          InvoiceDate  UnitPrice  CustomerID         Country  \n",
       "0 2010-12-01 08:26:00       2.55     17850.0  United Kingdom  \n",
       "1 2010-12-01 08:26:00       3.39     17850.0  United Kingdom  \n",
       "2 2010-12-01 08:26:00       2.75     17850.0  United Kingdom  \n",
       "3 2010-12-01 08:26:00       3.39     17850.0  United Kingdom  \n",
       "4 2010-12-01 08:26:00       3.39     17850.0  United Kingdom  "
      ]
     },
     "execution_count": 195,
     "metadata": {},
     "output_type": "execute_result"
    }
   ],
   "source": [
    "df.head(5)"
   ]
  },
  {
   "cell_type": "code",
   "execution_count": 196,
   "id": "060870b5",
   "metadata": {},
   "outputs": [
    {
     "name": "stdout",
     "output_type": "stream",
     "text": [
      "<class 'pandas.core.frame.DataFrame'>\n",
      "RangeIndex: 541909 entries, 0 to 541908\n",
      "Data columns (total 8 columns):\n",
      " #   Column       Non-Null Count   Dtype         \n",
      "---  ------       --------------   -----         \n",
      " 0   InvoiceNo    541909 non-null  object        \n",
      " 1   StockCode    541909 non-null  object        \n",
      " 2   Description  540455 non-null  object        \n",
      " 3   Quantity     541909 non-null  int64         \n",
      " 4   InvoiceDate  541909 non-null  datetime64[ns]\n",
      " 5   UnitPrice    541909 non-null  float64       \n",
      " 6   CustomerID   406829 non-null  float64       \n",
      " 7   Country      541909 non-null  object        \n",
      "dtypes: datetime64[ns](1), float64(2), int64(1), object(4)\n",
      "memory usage: 33.1+ MB\n"
     ]
    }
   ],
   "source": [
    "# Understanding the data\n",
    "df.info()"
   ]
  },
  {
   "cell_type": "code",
   "execution_count": 197,
   "id": "36243b11",
   "metadata": {},
   "outputs": [
    {
     "data": {
      "text/plain": [
       "InvoiceNo           0\n",
       "StockCode           0\n",
       "Description      1454\n",
       "Quantity            0\n",
       "InvoiceDate         0\n",
       "UnitPrice           0\n",
       "CustomerID     135080\n",
       "Country             0\n",
       "dtype: int64"
      ]
     },
     "execution_count": 197,
     "metadata": {},
     "output_type": "execute_result"
    }
   ],
   "source": [
    "##Looking for null values\n",
    "df.isna().sum()"
   ]
  },
  {
   "cell_type": "code",
   "execution_count": 198,
   "id": "e48d31a9",
   "metadata": {},
   "outputs": [
    {
     "name": "stdout",
     "output_type": "stream",
     "text": [
      "Before dropping null values:  (541909, 8)\n",
      "After dropping null values:  (406829, 8)\n"
     ]
    }
   ],
   "source": [
    "## looking for duplicates\n",
    "print(\"Before dropping null values: \", df.shape)\n",
    "df.duplicated().sum()\n",
    "# Dropping the null values\n",
    "df.dropna(inplace=True)\n",
    "\n",
    "\n",
    "print(\"After dropping null values: \", df.shape)"
   ]
  },
  {
   "cell_type": "code",
   "execution_count": 199,
   "id": "e4b54c02",
   "metadata": {},
   "outputs": [
    {
     "data": {
      "text/plain": [
       "InvoiceNo      0\n",
       "StockCode      0\n",
       "Description    0\n",
       "Quantity       0\n",
       "InvoiceDate    0\n",
       "UnitPrice      0\n",
       "CustomerID     0\n",
       "Country        0\n",
       "dtype: int64"
      ]
     },
     "execution_count": 199,
     "metadata": {},
     "output_type": "execute_result"
    }
   ],
   "source": [
    "df.isna().sum()"
   ]
  },
  {
   "cell_type": "code",
   "execution_count": 200,
   "id": "a7ea459c",
   "metadata": {},
   "outputs": [
    {
     "name": "stdout",
     "output_type": "stream",
     "text": [
      "After dropping null values:  (406829, 8)\n"
     ]
    }
   ],
   "source": [
    "## Dropping null values\n",
    "df.dropna(inplace=True)\n",
    "\n",
    "print(\"After dropping null values: \", df.shape)"
   ]
  },
  {
   "cell_type": "code",
   "execution_count": 201,
   "id": "5da0deeb",
   "metadata": {},
   "outputs": [
    {
     "data": {
      "text/html": [
       "<div>\n",
       "<style scoped>\n",
       "    .dataframe tbody tr th:only-of-type {\n",
       "        vertical-align: middle;\n",
       "    }\n",
       "\n",
       "    .dataframe tbody tr th {\n",
       "        vertical-align: top;\n",
       "    }\n",
       "\n",
       "    .dataframe thead th {\n",
       "        text-align: right;\n",
       "    }\n",
       "</style>\n",
       "<table border=\"1\" class=\"dataframe\">\n",
       "  <thead>\n",
       "    <tr style=\"text-align: right;\">\n",
       "      <th></th>\n",
       "      <th>Quantity</th>\n",
       "      <th>InvoiceDate</th>\n",
       "      <th>UnitPrice</th>\n",
       "      <th>CustomerID</th>\n",
       "    </tr>\n",
       "  </thead>\n",
       "  <tbody>\n",
       "    <tr>\n",
       "      <th>count</th>\n",
       "      <td>406829.000000</td>\n",
       "      <td>406829</td>\n",
       "      <td>406829.000000</td>\n",
       "      <td>406829.000000</td>\n",
       "    </tr>\n",
       "    <tr>\n",
       "      <th>mean</th>\n",
       "      <td>12.061303</td>\n",
       "      <td>2011-07-10 16:30:57.879207424</td>\n",
       "      <td>3.460471</td>\n",
       "      <td>15287.690570</td>\n",
       "    </tr>\n",
       "    <tr>\n",
       "      <th>min</th>\n",
       "      <td>-80995.000000</td>\n",
       "      <td>2010-12-01 08:26:00</td>\n",
       "      <td>0.000000</td>\n",
       "      <td>12346.000000</td>\n",
       "    </tr>\n",
       "    <tr>\n",
       "      <th>25%</th>\n",
       "      <td>2.000000</td>\n",
       "      <td>2011-04-06 15:02:00</td>\n",
       "      <td>1.250000</td>\n",
       "      <td>13953.000000</td>\n",
       "    </tr>\n",
       "    <tr>\n",
       "      <th>50%</th>\n",
       "      <td>5.000000</td>\n",
       "      <td>2011-07-31 11:48:00</td>\n",
       "      <td>1.950000</td>\n",
       "      <td>15152.000000</td>\n",
       "    </tr>\n",
       "    <tr>\n",
       "      <th>75%</th>\n",
       "      <td>12.000000</td>\n",
       "      <td>2011-10-20 13:06:00</td>\n",
       "      <td>3.750000</td>\n",
       "      <td>16791.000000</td>\n",
       "    </tr>\n",
       "    <tr>\n",
       "      <th>max</th>\n",
       "      <td>80995.000000</td>\n",
       "      <td>2011-12-09 12:50:00</td>\n",
       "      <td>38970.000000</td>\n",
       "      <td>18287.000000</td>\n",
       "    </tr>\n",
       "    <tr>\n",
       "      <th>std</th>\n",
       "      <td>248.693370</td>\n",
       "      <td>NaN</td>\n",
       "      <td>69.315162</td>\n",
       "      <td>1713.600303</td>\n",
       "    </tr>\n",
       "  </tbody>\n",
       "</table>\n",
       "</div>"
      ],
      "text/plain": [
       "            Quantity                    InvoiceDate      UnitPrice  \\\n",
       "count  406829.000000                         406829  406829.000000   \n",
       "mean       12.061303  2011-07-10 16:30:57.879207424       3.460471   \n",
       "min    -80995.000000            2010-12-01 08:26:00       0.000000   \n",
       "25%         2.000000            2011-04-06 15:02:00       1.250000   \n",
       "50%         5.000000            2011-07-31 11:48:00       1.950000   \n",
       "75%        12.000000            2011-10-20 13:06:00       3.750000   \n",
       "max     80995.000000            2011-12-09 12:50:00   38970.000000   \n",
       "std       248.693370                            NaN      69.315162   \n",
       "\n",
       "          CustomerID  \n",
       "count  406829.000000  \n",
       "mean    15287.690570  \n",
       "min     12346.000000  \n",
       "25%     13953.000000  \n",
       "50%     15152.000000  \n",
       "75%     16791.000000  \n",
       "max     18287.000000  \n",
       "std      1713.600303  "
      ]
     },
     "execution_count": 201,
     "metadata": {},
     "output_type": "execute_result"
    }
   ],
   "source": [
    "df.describe()"
   ]
  },
  {
   "cell_type": "code",
   "execution_count": 202,
   "id": "9a80f46d",
   "metadata": {},
   "outputs": [
    {
     "data": {
      "text/plain": [
       "Index(['InvoiceNo', 'StockCode', 'Description', 'Quantity', 'InvoiceDate',\n",
       "       'UnitPrice', 'CustomerID', 'Country'],\n",
       "      dtype='object')"
      ]
     },
     "execution_count": 202,
     "metadata": {},
     "output_type": "execute_result"
    }
   ],
   "source": [
    "df.columns"
   ]
  },
  {
   "cell_type": "code",
   "execution_count": 203,
   "id": "d9288282",
   "metadata": {},
   "outputs": [
    {
     "name": "stdout",
     "output_type": "stream",
     "text": [
      "Unique values in StockCode : ['85123A' 71053 '84406B' ... '90214Z' 90089 23843] \n",
      "\n",
      " Number of unique values in StockCode : 3684\n",
      "\n",
      "\n",
      "Unique values in Description : ['WHITE HANGING HEART T-LIGHT HOLDER' 'WHITE METAL LANTERN'\n",
      " 'CREAM CUPID HEARTS COAT HANGER' ... 'PINK CRYSTAL SKULL PHONE CHARM'\n",
      " 'CREAM HANGING HEART T-LIGHT HOLDER' 'PAPER CRAFT , LITTLE BIRDIE'] \n",
      "\n",
      " Number of unique values in Description : 3896\n",
      "\n",
      "\n",
      "Unique values in Quantity : [     6      8      2     32      3      4     24     12     48     18\n",
      "     20     36     80     64     10    120     96     23      5      1\n",
      "     -1     50     40    100    192    432    144    288    -12    -24\n",
      "     16      9    128     25     30     28      7     72    200    600\n",
      "    480     -6     14     -2     -4     -5     -7     -3     11     70\n",
      "    252     60    216    384     27    108     52  -9360     75    270\n",
      "     42    240     90    320     17   1824    204     69    -36   -192\n",
      "   -144    160   2880   1400     19     39    -48    -50     56     13\n",
      "   1440     -8     15    720    -20    156    324     41    -10    -72\n",
      "    -11    402    378    150    300     22     34    408    972    208\n",
      "   1008     26   1000    -25   1488    250   1394    400    110    -14\n",
      "     37    -33     78     -9     21    272     84    -47    -18    -96\n",
      "     47    -15    -30   1728     38    -60    -16     53   -240     76\n",
      "    576    -32     29   2400    500    -80    180   -300   -500    -23\n",
      "    -13    960    -21   1296   -150    -17    147    168    256    -40\n",
      "   -100     54     31    860   1010   1356   1284    186    114    360\n",
      "   1930   2000   3114   1300    670    176    648     62  74215 -74215\n",
      "     89     33     46   -120    112    456    900   -600    -42    -94\n",
      "     45    130   2592    420    800     35   1200    864    504    -76\n",
      "   -200   1056   1500    280    407    141   3906   1152    198    117\n",
      "   -720    125    -86     81    -35    768     88     43    700   -102\n",
      "   2160     55    -49    342    304    640    220    350    -46    -64\n",
      "    312    392   -624    -27    330    151   -432    -58     44   -670\n",
      "  -1300  -1930  -2000  -3114    462     66    492    273     65     85\n",
      "    -51   -960   1350    428  -1350    336    101    132    227   2700\n",
      "    222    228    246    906    756    888    552    224    738    608\n",
      "   4300    276    -52     58     98     51     74   1600    323    -22\n",
      "   1515  -1515    660    104   -420    264    188    588    612    152\n",
      "    -19   -480     49   -164   -160    430    701    828    540    696\n",
      "    560   -576   -108   -250   -408    121    512    -37    291   3186\n",
      "     83     87     79   -360    -28    -75    109   -121    129    261\n",
      "    352    102   -288    348   1900    157    -39    116    968    684\n",
      "    824   -828   -701    196    124    248    410    236    230    210\n",
      "    448   -140   -400   -252   -110   -334   -318   -126   -113   -180\n",
      "    140     86    840    -38    450     93    494     92   1788    624\n",
      "    744    416    496    396    306   1878   1944    666    708   1428\n",
      "    852   1412    528   -756   -152    -85    -34   -312    -79    -43\n",
      "    -31    183   -186    -53    -82    -70    -68   1540  -1200   -130\n",
      "   -220    672    -26    -29     67   -840  -1296     63     94    255\n",
      "     57    126    468   -468   -324   -168   4800    -66   -112    912\n",
      "   1992    136   3000    -45    232    832    992    630   1020   2100\n",
      "    162   -162    -67   -276   -184    234    244   -244   -234   -132\n",
      "  12540     95    760    139    115    774   2040   1120     59    490\n",
      "    388    620   1404    698  80995 -80995] \n",
      "\n",
      " Number of unique values in Quantity : 436\n",
      "\n",
      "\n",
      "Unique values in UnitPrice : [2.55000e+00 3.39000e+00 2.75000e+00 7.65000e+00 4.25000e+00 1.85000e+00\n",
      " 1.69000e+00 2.10000e+00 3.75000e+00 1.65000e+00 4.95000e+00 9.95000e+00\n",
      " 5.95000e+00 7.95000e+00 8.50000e-01 6.50000e-01 1.25000e+00 2.95000e+00\n",
      " 1.95000e+00 4.20000e-01 1.80000e+01 1.06000e+00 6.95000e+00 1.09500e+01\n",
      " 3.45000e+00 5.50000e-01 3.80000e-01 1.45000e+00 3.95000e+00 6.75000e+00\n",
      " 2.75000e+01 1.49500e+01 1.69500e+01 4.65000e+00 6.45000e+00 1.27500e+01\n",
      " 1.99500e+01 8.50000e+00 3.82000e+00 3.37000e+00 5.45000e+00 6.35000e+00\n",
      " 7.20000e-01 6.40000e-01 1.00000e-01 3.20000e-01 1.48000e+00 2.90000e-01\n",
      " 1.65000e+02 3.57500e+01 3.35000e+00 1.06500e+01 1.50000e+01 9.50000e-01\n",
      " 2.10000e-01 1.20000e-01 2.40000e-01 3.25000e+00 1.49000e+00 2.25000e+00\n",
      " 1.55000e+00 1.89500e+01 8.95000e+00 5.00000e+01 2.99500e+01 4.60000e+00\n",
      " 1.05000e+00 5.49000e+00 1.90000e-01 1.07500e+01 7.99500e+01 1.19500e+01\n",
      " 3.00000e-02 7.50000e-01 3.60000e-01 3.40000e-01 1.60000e-01 1.88000e+00\n",
      " 7.25000e+00 1.80000e-01 2.95000e+02 4.00000e+01 2.80000e+01 4.29500e+01\n",
      " 2.19500e+01 2.69500e+01 2.92900e+01 1.40000e-01 0.00000e+00 5.55000e+00\n",
      " 4.99500e+01 1.00000e+00 3.49000e+00 1.59500e+01 3.50000e+01 4.41000e+00\n",
      " 3.00000e-01 6.60000e+00 1.93000e+00 3.21000e+00 5.30000e-01 2.81000e+02\n",
      " 7.00000e-02 3.99500e+01 4.78000e+00 1.98400e+01 2.31000e+00 6.38000e+00\n",
      " 9.89000e+00 3.86000e+00 5.27700e+01 3.88000e+00 3.26900e+01 2.67120e+02\n",
      " 1.45000e+02 1.99400e+01 5.00000e-01 2.50000e-01 2.49500e+01 3.59500e+01\n",
      " 1.75000e+02 3.81000e+00 1.70000e-01 2.50000e+00 7.50000e+00 6.25000e+00\n",
      " 2.12000e+00 1.25000e+02 2.00000e+01 5.00000e+00 5.76000e+00 4.25000e+01\n",
      " 8.49000e+00 2.69300e+01 1.23400e+01 3.50000e+00 2.00000e+00 1.53000e+00\n",
      " 9.40000e-01 3.49500e+01 3.00000e+00 6.50000e+01 4.00000e-01 1.38800e+01\n",
      " 1.50000e+02 5.75000e+00 2.00000e-01 2.29700e+01 3.98000e+00 3.70000e-01\n",
      " 1.12600e+03 5.72000e+00 6.70000e+00 2.65500e+02 3.24000e+00 2.17000e+00\n",
      " 1.01300e+01 2.40000e+00 2.65000e+00 2.21000e+00 2.16000e+00 7.30000e-01\n",
      " 1.24000e+00 3.44000e+00 4.68000e+00 2.22000e+00 2.69000e+00 4.62000e+00\n",
      " 6.91000e+00 9.16000e+00 8.87000e+00 7.13000e+00 1.29900e+01 7.06000e+00\n",
      " 7.45000e+00 1.00000e+01 8.70000e-01 1.10000e+02 1.04000e+00 5.79500e+01\n",
      " 1.27000e+00 5.99500e+01 1.71585e+03 4.00000e+00 2.08000e+00 4.15000e+00\n",
      " 4.77000e+00 2.20000e-01 4.10000e-01 4.50000e+00 7.14600e+01 6.42700e+01\n",
      " 6.59100e+01 8.56480e+02 8.48000e+01 1.90800e+02 7.00100e+01 2.08160e+02\n",
      " 6.00000e-02 3.90000e-01 8.25000e+01 7.90000e-01 3.20690e+02 8.20000e-01\n",
      " 1.75000e+00 8.15000e+00 3.01900e+01 3.50000e-01 2.80050e+02 1.83750e+02\n",
      " 3.76500e+02 2.75600e+02 8.30000e-01 7.90000e+00 6.98000e+00 3.03800e+01\n",
      " 1.00000e-02 8.50000e+01 2.89000e+00 8.25000e+00 1.95000e+02 3.29500e+01\n",
      " 4.55700e+01 8.65000e+00 4.50000e+01 1.60500e+01 1.75500e+01 8.00000e-02\n",
      " 3.40000e+00 9.87000e+00 7.00000e-01 1.72000e+00 2.84000e+00 4.40000e+00\n",
      " 1.68717e+03 9.10000e-01 4.50000e-01 6.70000e-01 6.30000e-01 6.80000e-01\n",
      " 2.70000e+01 6.60000e-01 2.32000e+00 1.70000e+00 6.00000e+00 1.29800e+01\n",
      " 3.85000e+00 2.49000e+00 2.70000e+00 1.62240e+02 5.70000e+00 7.88000e+00\n",
      " 5.76000e+01 1.45200e+01 7.60000e-01 1.79000e+00 3.50000e+02 1.34000e+02\n",
      " 1.62600e+02 2.38292e+03 2.39300e+02 1.25295e+03 2.05307e+03 1.13630e+03\n",
      " 6.65000e+00 1.86786e+03 1.50000e+00 3.08820e+02 1.50500e+01 1.00000e-03\n",
      " 1.25000e+01 2.22750e+02 1.10000e+01 1.58210e+02 3.29000e+00 2.35000e+00\n",
      " 7.05000e+00 2.17800e+01 3.96000e+00 1.04000e+01 1.74000e+00 1.20000e+02\n",
      " 3.15000e+00 1.17600e+01 1.01000e+00 4.00000e+02 1.11500e+01 8.14275e+03\n",
      " 6.93000e+03 2.59500e+01 1.18400e+01 3.34710e+02 5.39000e+00 6.90000e-01\n",
      " 5.10000e+00 9.29900e+02 5.23000e+02 5.57720e+02 7.40000e-01 9.15000e+00\n",
      " 4.58000e+00 2.66000e+00 2.33000e+00 7.62000e+00 6.78000e+00 5.88000e+00\n",
      " 4.86000e+00 3.32000e+00 9.42000e+00 6.79000e+00 2.96000e+00 1.98000e+00\n",
      " 1.16300e+01 1.18000e+00 1.92000e+00 6.42000e+00 4.27000e+00 2.46000e+00\n",
      " 1.68000e+00 1.66000e+00 9.84000e+00 2.93000e+02 1.59600e+01 3.71000e+00\n",
      " 4.17500e+01 6.50000e+00 7.50000e+01 1.90000e+00 1.24198e+03 1.29500e+01\n",
      " 4.18000e+00 6.00000e+01 1.10000e-01 1.17000e+01 4.20000e+01 5.90000e-01\n",
      " 4.00000e-02 1.24800e+01 3.00000e+01 2.09200e+01 1.29380e+02 2.80400e+01\n",
      " 6.00000e+02 4.05000e+00 6.49500e+02 3.89700e+04 2.02000e+00 4.80000e+00\n",
      " 3.91000e+00 3.90000e+00 6.40000e+00 8.00000e+00 1.29900e+02 1.44200e+01\n",
      " 2.50000e+01 2.80000e-01 6.20000e-01 7.70000e-01 2.70000e-01 8.60000e-01\n",
      " 2.26000e+00 2.62000e+00 5.80000e-01 5.80000e+00 5.45580e+02 7.00000e+02\n",
      " 9.80000e-01 7.85000e+00 6.89000e+00 4.37000e+00 3.56000e+00 5.32000e+00\n",
      " 1.76000e+00 3.89680e+02 4.90000e+00 3.52000e+00 2.88000e+00 9.36000e+00\n",
      " 4.80000e-01 1.39900e+01 2.39000e+00 3.20000e+00 5.50940e+02 4.28763e+03\n",
      " 5.50640e+02 7.17230e+02 1.59249e+03 6.11860e+02 2.94920e+02 7.05450e+02\n",
      " 1.12350e+02 1.06400e+02 4.51420e+02 3.06060e+03 1.21500e+01 6.62400e+01\n",
      " 4.30000e+00 2.90000e+00 4.56000e+01 3.65000e+01 2.60500e+01 9.60000e+00\n",
      " 1.02000e+00 2.50000e+02 4.36300e+01 6.76000e+00 4.80000e+01 3.15595e+03\n",
      " 1.03400e+01 2.08340e+02 6.40000e+01 1.12118e+03 2.50000e+03 1.80000e+00\n",
      " 1.08000e+00 4.34510e+02 3.28000e+00 1.43000e+00 4.02000e+00 4.08000e+00\n",
      " 5.14000e+00 2.60000e+00 5.08000e+00 5.15000e+00 2.06400e+02 1.03900e+01\n",
      " 1.15200e+01 1.63000e+00 1.23000e+00 1.11700e+01 1.60000e+00 1.66700e+01\n",
      " 1.50700e+01 1.00600e+01 1.30000e+01 8.74000e+01 7.96800e+01 6.61700e+01\n",
      " 3.37500e+01 1.32000e+00 3.63000e+01 3.83900e+01 2.00000e+02 1.45000e+01\n",
      " 8.52800e+02 5.79000e+00 8.29000e+00 7.46000e+00 4.13000e+00 4.96000e+00\n",
      " 1.07900e+01 1.64600e+01 1.30100e+01 1.10430e+02 1.31000e+00 7.80000e-01\n",
      " 7.08000e+00 4.53300e+01 1.10450e+02 1.31600e+01 1.24600e+01 2.07500e+01\n",
      " 2.49600e+01 1.57900e+01 1.41300e+01 8.55800e+01 5.22400e+01 1.02240e+02\n",
      " 1.82984e+03 2.03310e+03 3.45030e+02 2.41000e+00 5.06000e+00 5.18000e+00\n",
      " 8.78550e+02 6.63000e+00 1.66300e+01 2.92000e+00 9.96000e+00 6.08660e+02\n",
      " 2.99000e+00 8.12000e+00 1.64000e+00 5.64000e+00 6.72000e+00 3.75000e+01\n",
      " 1.96000e+00 9.98000e+00 4.67000e+00 1.16700e+01 8.00000e-01 1.86200e+01\n",
      " 3.12000e+00 1.49600e+01 2.91300e+01 1.32900e+01 3.32900e+01 6.88080e+02\n",
      " 4.47560e+02 8.00000e+01 3.38000e+00 9.00000e+01 1.20000e+01 6.36000e+00\n",
      " 9.13000e+00 4.90250e+02 3.61590e+02 3.26000e+00 1.12000e+00 1.97000e+00\n",
      " 6.67000e+00 1.40000e+00 2.85000e+00 4.98000e+00 5.66000e+00 3.58000e+00\n",
      " 5.35000e+00 9.00000e-01 3.57000e+00 3.89000e+00 3.97000e+00 5.68000e+00\n",
      " 1.52780e+02 3.22200e+01 2.40000e+02 1.67400e+01 1.60700e+01 2.18720e+02\n",
      " 2.30000e+00 3.74000e+00 6.82050e+02 1.99600e+01 1.46000e+00 6.35010e+02\n",
      " 4.11920e+02 5.99500e+02 2.83020e+02 3.39020e+02 7.43620e+02 4.95980e+02\n",
      " 7.92000e+01 1.20580e+02 3.94932e+03 2.11874e+03 1.66500e+01 2.08000e+01\n",
      " 3.92000e+00 4.14000e+00 4.64900e+02 6.38300e+02 4.25140e+02 1.45500e+01\n",
      " 3.13000e+00 1.67000e+00 4.16106e+03 2.32700e+01 9.07000e+02 1.71000e+00\n",
      " 9.01580e+02 6.06000e+02 5.50000e+00 3.97000e+01 1.15900e+01 6.41100e+01\n",
      " 2.62730e+02 2.48000e+00 1.10000e+00 1.11000e+00 4.04000e+00 9.08160e+02\n",
      " 5.17510e+02 4.04600e+01 4.24060e+02 5.49340e+02 9.71400e+01 5.17000e+00\n",
      " 2.67000e+00 9.20000e-01 1.83000e+02 1.38000e+00 1.50036e+03 1.03875e+03\n",
      " 8.50500e+02 2.10000e+01 2.72600e+01 1.48800e+01 1.98200e+01 1.67600e+01\n",
      " 3.00000e+02 6.71000e+00 2.04000e+00 5.60000e-01 2.63300e+01 1.27006e+03\n",
      " 8.49930e+02 7.60000e+00 7.00000e+00 1.52676e+03 9.87140e+02 5.13000e+00\n",
      " 9.72000e+00 2.05000e+01 2.05300e+01 2.86800e+01 1.19000e+00 5.20000e-01\n",
      " 7.84000e+00 2.42000e+00 3.16000e+00 4.70000e+00 9.00000e-02 2.19500e+02\n",
      " 1.70000e+01 1.59926e+03 1.10044e+03 1.86000e+00 3.30000e+00 1.33500e+01\n",
      " 4.76000e+00 2.24690e+02] \n",
      "\n",
      " Number of unique values in UnitPrice : 620\n",
      "\n",
      "\n",
      "Unique values in CustomerID : [17850. 13047. 12583. ... 13298. 14569. 12713.] \n",
      "\n",
      " Number of unique values in CustomerID : 4372\n",
      "\n",
      "\n",
      "Unique values in Country : ['United Kingdom' 'France' 'Australia' 'Netherlands' 'Germany' 'Norway'\n",
      " 'EIRE' 'Switzerland' 'Spain' 'Poland' 'Portugal' 'Italy' 'Belgium'\n",
      " 'Lithuania' 'Japan' 'Iceland' 'Channel Islands' 'Denmark' 'Cyprus'\n",
      " 'Sweden' 'Austria' 'Israel' 'Finland' 'Greece' 'Singapore' 'Lebanon'\n",
      " 'United Arab Emirates' 'Saudi Arabia' 'Czech Republic' 'Canada'\n",
      " 'Unspecified' 'Brazil' 'USA' 'European Community' 'Bahrain' 'Malta' 'RSA'] \n",
      "\n",
      " Number of unique values in Country : 37\n",
      "\n",
      "\n"
     ]
    }
   ],
   "source": [
    "columns = ['StockCode', 'Description', 'Quantity','UnitPrice', 'CustomerID', 'Country']\n",
    "\n",
    "for col in columns:\n",
    "    print(f'Unique values in {col} : {df[col].unique()} \\n\\n Number of unique values in {col} : {len(df[col].unique())}\\n\\n')"
   ]
  },
  {
   "cell_type": "code",
   "execution_count": 204,
   "id": "8c1d4d6a",
   "metadata": {},
   "outputs": [],
   "source": [
    "customer_df =df.copy()"
   ]
  },
  {
   "cell_type": "markdown",
   "id": "e6531541",
   "metadata": {},
   "source": [
    "#### Create a Total price Column"
   ]
  },
  {
   "cell_type": "code",
   "execution_count": 205,
   "id": "93284e31",
   "metadata": {},
   "outputs": [],
   "source": [
    "customer_df['TotalPrice'] = customer_df['Quantity'] * customer_df['UnitPrice']"
   ]
  },
  {
   "cell_type": "code",
   "execution_count": 206,
   "id": "b3a1749f",
   "metadata": {},
   "outputs": [
    {
     "data": {
      "text/html": [
       "<div>\n",
       "<style scoped>\n",
       "    .dataframe tbody tr th:only-of-type {\n",
       "        vertical-align: middle;\n",
       "    }\n",
       "\n",
       "    .dataframe tbody tr th {\n",
       "        vertical-align: top;\n",
       "    }\n",
       "\n",
       "    .dataframe thead th {\n",
       "        text-align: right;\n",
       "    }\n",
       "</style>\n",
       "<table border=\"1\" class=\"dataframe\">\n",
       "  <thead>\n",
       "    <tr style=\"text-align: right;\">\n",
       "      <th></th>\n",
       "      <th>InvoiceNo</th>\n",
       "      <th>StockCode</th>\n",
       "      <th>Description</th>\n",
       "      <th>Quantity</th>\n",
       "      <th>InvoiceDate</th>\n",
       "      <th>UnitPrice</th>\n",
       "      <th>CustomerID</th>\n",
       "      <th>Country</th>\n",
       "      <th>TotalPrice</th>\n",
       "    </tr>\n",
       "  </thead>\n",
       "  <tbody>\n",
       "    <tr>\n",
       "      <th>0</th>\n",
       "      <td>536365</td>\n",
       "      <td>85123A</td>\n",
       "      <td>WHITE HANGING HEART T-LIGHT HOLDER</td>\n",
       "      <td>6</td>\n",
       "      <td>2010-12-01 08:26:00</td>\n",
       "      <td>2.55</td>\n",
       "      <td>17850.0</td>\n",
       "      <td>United Kingdom</td>\n",
       "      <td>15.30</td>\n",
       "    </tr>\n",
       "    <tr>\n",
       "      <th>1</th>\n",
       "      <td>536365</td>\n",
       "      <td>71053</td>\n",
       "      <td>WHITE METAL LANTERN</td>\n",
       "      <td>6</td>\n",
       "      <td>2010-12-01 08:26:00</td>\n",
       "      <td>3.39</td>\n",
       "      <td>17850.0</td>\n",
       "      <td>United Kingdom</td>\n",
       "      <td>20.34</td>\n",
       "    </tr>\n",
       "    <tr>\n",
       "      <th>2</th>\n",
       "      <td>536365</td>\n",
       "      <td>84406B</td>\n",
       "      <td>CREAM CUPID HEARTS COAT HANGER</td>\n",
       "      <td>8</td>\n",
       "      <td>2010-12-01 08:26:00</td>\n",
       "      <td>2.75</td>\n",
       "      <td>17850.0</td>\n",
       "      <td>United Kingdom</td>\n",
       "      <td>22.00</td>\n",
       "    </tr>\n",
       "    <tr>\n",
       "      <th>3</th>\n",
       "      <td>536365</td>\n",
       "      <td>84029G</td>\n",
       "      <td>KNITTED UNION FLAG HOT WATER BOTTLE</td>\n",
       "      <td>6</td>\n",
       "      <td>2010-12-01 08:26:00</td>\n",
       "      <td>3.39</td>\n",
       "      <td>17850.0</td>\n",
       "      <td>United Kingdom</td>\n",
       "      <td>20.34</td>\n",
       "    </tr>\n",
       "    <tr>\n",
       "      <th>4</th>\n",
       "      <td>536365</td>\n",
       "      <td>84029E</td>\n",
       "      <td>RED WOOLLY HOTTIE WHITE HEART.</td>\n",
       "      <td>6</td>\n",
       "      <td>2010-12-01 08:26:00</td>\n",
       "      <td>3.39</td>\n",
       "      <td>17850.0</td>\n",
       "      <td>United Kingdom</td>\n",
       "      <td>20.34</td>\n",
       "    </tr>\n",
       "  </tbody>\n",
       "</table>\n",
       "</div>"
      ],
      "text/plain": [
       "  InvoiceNo StockCode                          Description  Quantity  \\\n",
       "0    536365    85123A   WHITE HANGING HEART T-LIGHT HOLDER         6   \n",
       "1    536365     71053                  WHITE METAL LANTERN         6   \n",
       "2    536365    84406B       CREAM CUPID HEARTS COAT HANGER         8   \n",
       "3    536365    84029G  KNITTED UNION FLAG HOT WATER BOTTLE         6   \n",
       "4    536365    84029E       RED WOOLLY HOTTIE WHITE HEART.         6   \n",
       "\n",
       "          InvoiceDate  UnitPrice  CustomerID         Country  TotalPrice  \n",
       "0 2010-12-01 08:26:00       2.55     17850.0  United Kingdom       15.30  \n",
       "1 2010-12-01 08:26:00       3.39     17850.0  United Kingdom       20.34  \n",
       "2 2010-12-01 08:26:00       2.75     17850.0  United Kingdom       22.00  \n",
       "3 2010-12-01 08:26:00       3.39     17850.0  United Kingdom       20.34  \n",
       "4 2010-12-01 08:26:00       3.39     17850.0  United Kingdom       20.34  "
      ]
     },
     "execution_count": 206,
     "metadata": {},
     "output_type": "execute_result"
    }
   ],
   "source": [
    "customer_df.head()"
   ]
  },
  {
   "cell_type": "code",
   "execution_count": 207,
   "id": "c7eb33d9",
   "metadata": {},
   "outputs": [
    {
     "data": {
      "text/plain": [
       "(406829, 9)"
      ]
     },
     "execution_count": 207,
     "metadata": {},
     "output_type": "execute_result"
    }
   ],
   "source": [
    "customer_df.shape"
   ]
  },
  {
   "cell_type": "code",
   "execution_count": null,
   "id": "0b28d980",
   "metadata": {},
   "outputs": [],
   "source": []
  },
  {
   "cell_type": "code",
   "execution_count": null,
   "id": "a77a5ea3",
   "metadata": {},
   "outputs": [],
   "source": []
  },
  {
   "cell_type": "code",
   "execution_count": null,
   "id": "2c3dce2f",
   "metadata": {},
   "outputs": [],
   "source": []
  },
  {
   "cell_type": "code",
   "execution_count": 208,
   "id": "3ca6cbb5",
   "metadata": {},
   "outputs": [],
   "source": [
    "# df.to_csv(r'D:\\Melbin\\SELF\\Customer_Lifetime_Value_Prediction\\data\\final_dataset.csv', index=False)\n"
   ]
  }
 ],
 "metadata": {
  "kernelspec": {
   "display_name": ".venv",
   "language": "python",
   "name": "python3"
  },
  "language_info": {
   "codemirror_mode": {
    "name": "ipython",
    "version": 3
   },
   "file_extension": ".py",
   "mimetype": "text/x-python",
   "name": "python",
   "nbconvert_exporter": "python",
   "pygments_lexer": "ipython3",
   "version": "3.12.7"
  }
 },
 "nbformat": 4,
 "nbformat_minor": 5
}
