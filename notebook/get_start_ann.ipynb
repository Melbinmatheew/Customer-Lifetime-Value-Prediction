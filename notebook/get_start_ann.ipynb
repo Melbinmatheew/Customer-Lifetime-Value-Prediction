{
 "cells": [
  {
   "cell_type": "markdown",
   "id": "d4565b68-5714-4055-aa77-e937e34c10bd",
   "metadata": {
    "tags": []
   },
   "source": [
    "### Import Libraries"
   ]
  },
  {
   "cell_type": "code",
   "execution_count": 38,
   "id": "c5c54b51-f9aa-4e78-9db1-f7d317399437",
   "metadata": {
    "tags": []
   },
   "outputs": [],
   "source": [
    "import keras\n",
    "import numpy as np\n",
    "import pandas as pd\n",
    "from hyperopt import STATUS_OK, Trials, fmin, hp, tpe\n",
    "from sklearn.metrics import mean_squared_error\n",
    "from sklearn.model_selection import train_test_split\n",
    "\n",
    "import mlflow\n",
    "from mlflow.models import infer_signature"
   ]
  },
  {
   "cell_type": "code",
   "execution_count": 39,
   "id": "d39df71b-5920-401e-8eab-e6148a635727",
   "metadata": {
    "tags": []
   },
   "outputs": [
    {
     "data": {
      "text/html": [
       "<div>\n",
       "<style scoped>\n",
       "    .dataframe tbody tr th:only-of-type {\n",
       "        vertical-align: middle;\n",
       "    }\n",
       "\n",
       "    .dataframe tbody tr th {\n",
       "        vertical-align: top;\n",
       "    }\n",
       "\n",
       "    .dataframe thead th {\n",
       "        text-align: right;\n",
       "    }\n",
       "</style>\n",
       "<table border=\"1\" class=\"dataframe\">\n",
       "  <thead>\n",
       "    <tr style=\"text-align: right;\">\n",
       "      <th></th>\n",
       "      <th>InvoiceNo</th>\n",
       "      <th>StockCode</th>\n",
       "      <th>Description</th>\n",
       "      <th>Quantity</th>\n",
       "      <th>InvoiceDate</th>\n",
       "      <th>UnitPrice</th>\n",
       "      <th>CustomerID</th>\n",
       "      <th>Country</th>\n",
       "      <th>TotalPrice</th>\n",
       "      <th>Recency</th>\n",
       "      <th>Frequency</th>\n",
       "      <th>Monetary</th>\n",
       "    </tr>\n",
       "  </thead>\n",
       "  <tbody>\n",
       "    <tr>\n",
       "      <th>0</th>\n",
       "      <td>541431</td>\n",
       "      <td>23166</td>\n",
       "      <td>MEDIUM CERAMIC TOP STORAGE JAR</td>\n",
       "      <td>74215</td>\n",
       "      <td>2011-01-18 10:01:00</td>\n",
       "      <td>1.04</td>\n",
       "      <td>12346.0</td>\n",
       "      <td>United Kingdom</td>\n",
       "      <td>77183.6</td>\n",
       "      <td>NaN</td>\n",
       "      <td>2</td>\n",
       "      <td>154367.2</td>\n",
       "    </tr>\n",
       "    <tr>\n",
       "      <th>1</th>\n",
       "      <td>C541433</td>\n",
       "      <td>23166</td>\n",
       "      <td>MEDIUM CERAMIC TOP STORAGE JAR</td>\n",
       "      <td>74215</td>\n",
       "      <td>2011-01-18 10:17:00</td>\n",
       "      <td>1.04</td>\n",
       "      <td>12346.0</td>\n",
       "      <td>United Kingdom</td>\n",
       "      <td>77183.6</td>\n",
       "      <td>0.0</td>\n",
       "      <td>2</td>\n",
       "      <td>154367.2</td>\n",
       "    </tr>\n",
       "    <tr>\n",
       "      <th>2</th>\n",
       "      <td>537626</td>\n",
       "      <td>85116</td>\n",
       "      <td>BLACK CANDELABRA T-LIGHT HOLDER</td>\n",
       "      <td>12</td>\n",
       "      <td>2010-12-07 14:57:00</td>\n",
       "      <td>2.10</td>\n",
       "      <td>12347.0</td>\n",
       "      <td>Iceland</td>\n",
       "      <td>25.2</td>\n",
       "      <td>NaN</td>\n",
       "      <td>182</td>\n",
       "      <td>4310.0</td>\n",
       "    </tr>\n",
       "    <tr>\n",
       "      <th>3</th>\n",
       "      <td>537626</td>\n",
       "      <td>22375</td>\n",
       "      <td>AIRLINE BAG VINTAGE JET SET BROWN</td>\n",
       "      <td>4</td>\n",
       "      <td>2010-12-07 14:57:00</td>\n",
       "      <td>4.25</td>\n",
       "      <td>12347.0</td>\n",
       "      <td>Iceland</td>\n",
       "      <td>17.0</td>\n",
       "      <td>0.0</td>\n",
       "      <td>182</td>\n",
       "      <td>4310.0</td>\n",
       "    </tr>\n",
       "    <tr>\n",
       "      <th>4</th>\n",
       "      <td>537626</td>\n",
       "      <td>71477</td>\n",
       "      <td>COLOUR GLASS. STAR T-LIGHT HOLDER</td>\n",
       "      <td>12</td>\n",
       "      <td>2010-12-07 14:57:00</td>\n",
       "      <td>3.25</td>\n",
       "      <td>12347.0</td>\n",
       "      <td>Iceland</td>\n",
       "      <td>39.0</td>\n",
       "      <td>0.0</td>\n",
       "      <td>182</td>\n",
       "      <td>4310.0</td>\n",
       "    </tr>\n",
       "  </tbody>\n",
       "</table>\n",
       "</div>"
      ],
      "text/plain": [
       "  InvoiceNo StockCode                        Description  Quantity  \\\n",
       "0    541431     23166     MEDIUM CERAMIC TOP STORAGE JAR     74215   \n",
       "1   C541433     23166     MEDIUM CERAMIC TOP STORAGE JAR     74215   \n",
       "2    537626     85116    BLACK CANDELABRA T-LIGHT HOLDER        12   \n",
       "3    537626     22375  AIRLINE BAG VINTAGE JET SET BROWN         4   \n",
       "4    537626     71477  COLOUR GLASS. STAR T-LIGHT HOLDER        12   \n",
       "\n",
       "           InvoiceDate  UnitPrice  CustomerID         Country  TotalPrice  \\\n",
       "0  2011-01-18 10:01:00       1.04     12346.0  United Kingdom     77183.6   \n",
       "1  2011-01-18 10:17:00       1.04     12346.0  United Kingdom     77183.6   \n",
       "2  2010-12-07 14:57:00       2.10     12347.0         Iceland        25.2   \n",
       "3  2010-12-07 14:57:00       4.25     12347.0         Iceland        17.0   \n",
       "4  2010-12-07 14:57:00       3.25     12347.0         Iceland        39.0   \n",
       "\n",
       "   Recency  Frequency  Monetary  \n",
       "0      NaN          2  154367.2  \n",
       "1      0.0          2  154367.2  \n",
       "2      NaN        182    4310.0  \n",
       "3      0.0        182    4310.0  \n",
       "4      0.0        182    4310.0  "
      ]
     },
     "execution_count": 39,
     "metadata": {},
     "output_type": "execute_result"
    }
   ],
   "source": [
    "data = pd.read_csv(r\"D:\\Melbin\\SELF\\Customer_Lifetime_Value_Prediction\\data\\final_dataset.csv\")\n",
    "data.head(5)"
   ]
  },
  {
   "cell_type": "code",
   "execution_count": 40,
   "id": "a2f8c83b-dcb9-446f-a55a-e9a48928b3c3",
   "metadata": {
    "tags": []
   },
   "outputs": [
    {
     "data": {
      "text/plain": [
       "array([74215,    12,     4,    36,     6,    30,     3,    24,    10,\n",
       "         240,     8,     2,    18,    16,    48,    20,    72,   120,\n",
       "         144,     1,    80,    96,    25,     5,    32,    60,    40,\n",
       "          15,     9,    28,   180,    64,    13,   288,   100,    50,\n",
       "         256,     7,   108,    11,   272,   192,   576,   160,   168,\n",
       "         200,   480,   384,   128,   216,   432,   320,    86,   600,\n",
       "         400,    84,   336,   720,  1152,   250,   960,    27,    21,\n",
       "          43,    75,    33,    17,    42,    14,   125,    44,    70,\n",
       "         360,   150,    56,   300,   912,    90,    94,    66,   183,\n",
       "          52,   408,   224,   378,    45,    22,   102,   109,   132,\n",
       "         234,   244,  1488,   624,    19,  2040,   864,    29,    35,\n",
       "        1728,   291,   462,  1200,   227,  2700,   222,   228,   246,\n",
       "         420,   164,    54,    78,  1788,  4800,   774,    41,   280,\n",
       "         270,   220,   350,   348,  1900,  2880,   116,   968,   140,\n",
       "         252,   110,   334,   318,   126,   113,   276,   700,   184,\n",
       "         456,    37,   648,   198,  1440,    23,    49,    26,  4300,\n",
       "          63,    46,   121, 12540,    76,    31,    47,   324,   151,\n",
       "          65,  1600,    74,   323,   500,   504,    81,   156,   112,\n",
       "          38,    95,    59,  1000,  1500,   396,   147,    51,    39,\n",
       "          62,    58,    57,    34,    88,    53,    85,  1296,  2160,\n",
       "         494,   176,   117,   204,   392,   900,   273,   186,   255,\n",
       "         468,  2400,  3186,   640,   448,    92,    89,    82,    68,\n",
       "         264,   407,  1404,    79,  1824,    69,   162,    83,    67,\n",
       "        1930,  2000,  3114,  1300,   670,   800,   312,   130,  9360,\n",
       "         672,   906,   620,   428,   660,   512,   157,   840,   540,\n",
       "        3000,  2592,  1056,   612,  1540,  1020,  2100,  1120,   152,\n",
       "       80995,   141,  1400,  1515,   115,  1008,   114,   768,   402,\n",
       "         860,  1010,  1356,  1284,   342,   756,   888,   552,   738,\n",
       "         330,   608,   188,   588,   352,   196,   124,   248,   410,\n",
       "         236,   696,   230,   210,   744,   416,   496,   306,  1878,\n",
       "        1944,   666,   708,  1428,   852,  1412,   528,   136,   992,\n",
       "         630,   760,   139,    98,   129,    55,  1394,   232,   832,\n",
       "         490,   388,   430,   701,   828,   560,   261,   684,   824,\n",
       "        1992,   492,  3906,   972,   208,   304,   101,   104,    87,\n",
       "         450,    93,   698,  1350])"
      ]
     },
     "execution_count": 40,
     "metadata": {},
     "output_type": "execute_result"
    }
   ],
   "source": [
    "data['Quantity'].unique()"
   ]
  },
  {
   "cell_type": "markdown",
   "id": "4afe9277-52b5-43c4-bcf8-2e652005e620",
   "metadata": {
    "tags": []
   },
   "source": [
    "### Understanding Dataset"
   ]
  },
  {
   "cell_type": "code",
   "execution_count": null,
   "id": "759b73fa-ff92-412b-b9cb-4a16040fe51f",
   "metadata": {},
   "outputs": [],
   "source": []
  },
  {
   "cell_type": "code",
   "execution_count": 41,
   "id": "7db0625a-4579-43fb-a72f-b389dc9708da",
   "metadata": {
    "tags": []
   },
   "outputs": [
    {
     "name": "stdout",
     "output_type": "stream",
     "text": [
      "Shape of dataset :\n",
      "Number of columns present :  12\n",
      "Number of rows present:  406829\n"
     ]
    }
   ],
   "source": [
    "print(\"Shape of dataset :\")\n",
    "print(\"Number of columns present : \", data.shape[1])\n",
    "print(\"Number of rows present: \", data.shape[0])\n"
   ]
  },
  {
   "cell_type": "code",
   "execution_count": 42,
   "id": "890f1379-2334-4e6f-b6c2-bef5a1ae435d",
   "metadata": {
    "tags": []
   },
   "outputs": [
    {
     "name": "stdout",
     "output_type": "stream",
     "text": [
      "Number of null values:\n",
      " InvoiceNo         0\n",
      "StockCode         0\n",
      "Description       0\n",
      "Quantity          0\n",
      "InvoiceDate       0\n",
      "UnitPrice         0\n",
      "CustomerID        0\n",
      "Country           0\n",
      "TotalPrice        0\n",
      "Recency        4372\n",
      "Frequency         0\n",
      "Monetary          0\n",
      "dtype: int64\n"
     ]
    }
   ],
   "source": [
    "print(\"Number of null values:\\n\", data.isnull().sum())"
   ]
  },
  {
   "cell_type": "code",
   "execution_count": 43,
   "id": "d79f88a4-563f-448e-97f6-92160d4b1ec2",
   "metadata": {
    "tags": []
   },
   "outputs": [],
   "source": [
    "data = data.dropna(subset=['StockCode'])"
   ]
  },
  {
   "cell_type": "code",
   "execution_count": 44,
   "id": "1834e5bd-105f-4f30-9582-0711bf899fa6",
   "metadata": {
    "tags": []
   },
   "outputs": [
    {
     "name": "stdout",
     "output_type": "stream",
     "text": [
      "About data__:\n",
      "             Quantity      UnitPrice     CustomerID     TotalPrice  \\\n",
      "count  406829.000000  406829.000000  406829.000000  406829.000000   \n",
      "mean       13.412279       3.460471   15287.690570      23.407255   \n",
      "std       248.624170      69.315162    1713.600303     427.437730   \n",
      "min         1.000000       0.000000   12346.000000       0.000000   \n",
      "25%         2.000000       1.250000   13953.000000       4.680000   \n",
      "50%         5.000000       1.950000   15152.000000      11.800000   \n",
      "75%        12.000000       3.750000   16791.000000      19.800000   \n",
      "max     80995.000000   38970.000000   18287.000000  168469.600000   \n",
      "\n",
      "             Recency      Frequency       Monetary  \n",
      "count  402457.000000  406829.000000  406829.000000  \n",
      "mean        1.433656     673.695688   12088.958782  \n",
      "std        12.198087    1471.805936   32495.300306  \n",
      "min         0.000000       1.000000       0.000000  \n",
      "25%         0.000000      92.000000    1119.810000  \n",
      "50%         0.000000     206.000000    2740.430000  \n",
      "75%         0.000000     452.000000    6416.700000  \n",
      "max       365.000000    7983.000000  336942.100000  \n"
     ]
    }
   ],
   "source": [
    "print(\"About data__:\\n\", data.describe())"
   ]
  },
  {
   "cell_type": "code",
   "execution_count": 45,
   "id": "a1a600ec-5e82-4c3c-a408-979c74438320",
   "metadata": {
    "tags": []
   },
   "outputs": [
    {
     "name": "stdout",
     "output_type": "stream",
     "text": [
      "<class 'pandas.core.frame.DataFrame'>\n",
      "RangeIndex: 406829 entries, 0 to 406828\n",
      "Data columns (total 12 columns):\n",
      " #   Column       Non-Null Count   Dtype  \n",
      "---  ------       --------------   -----  \n",
      " 0   InvoiceNo    406829 non-null  object \n",
      " 1   StockCode    406829 non-null  object \n",
      " 2   Description  406829 non-null  object \n",
      " 3   Quantity     406829 non-null  int64  \n",
      " 4   InvoiceDate  406829 non-null  object \n",
      " 5   UnitPrice    406829 non-null  float64\n",
      " 6   CustomerID   406829 non-null  float64\n",
      " 7   Country      406829 non-null  object \n",
      " 8   TotalPrice   406829 non-null  float64\n",
      " 9   Recency      402457 non-null  float64\n",
      " 10  Frequency    406829 non-null  int64  \n",
      " 11  Monetary     406829 non-null  float64\n",
      "dtypes: float64(5), int64(2), object(5)\n",
      "memory usage: 37.2+ MB\n"
     ]
    }
   ],
   "source": [
    "data.info()"
   ]
  },
  {
   "cell_type": "code",
   "execution_count": 46,
   "id": "073ff3cc-50c9-4c6c-8140-67d05baac997",
   "metadata": {},
   "outputs": [
    {
     "data": {
      "text/plain": [
       "Index(['InvoiceNo', 'StockCode', 'Description', 'Quantity', 'InvoiceDate',\n",
       "       'UnitPrice', 'CustomerID', 'Country', 'TotalPrice', 'Recency',\n",
       "       'Frequency', 'Monetary'],\n",
       "      dtype='object')"
      ]
     },
     "execution_count": 46,
     "metadata": {},
     "output_type": "execute_result"
    }
   ],
   "source": [
    "data.columns"
   ]
  },
  {
   "cell_type": "code",
   "execution_count": 47,
   "id": "70e18f24-d1b7-4249-8262-58bcaf285299",
   "metadata": {},
   "outputs": [
    {
     "data": {
      "text/plain": [
       "Index(['InvoiceNo', 'StockCode', 'Description', 'Quantity', 'UnitPrice',\n",
       "       'CustomerID', 'Country', 'TotalPrice', 'Recency', 'Frequency',\n",
       "       'Monetary'],\n",
       "      dtype='object')"
      ]
     },
     "execution_count": 47,
     "metadata": {},
     "output_type": "execute_result"
    }
   ],
   "source": [
    "data.drop(columns=['InvoiceDate'], inplace =True)\n",
    "\n",
    "data.columns"
   ]
  },
  {
   "cell_type": "markdown",
   "id": "0edf8a1d-9c8d-4626-a694-00ff3653e7de",
   "metadata": {},
   "source": [
    "### Feature Scaling "
   ]
  },
  {
   "cell_type": "code",
   "execution_count": 48,
   "id": "60d2c823-6162-4659-93d4-6a4554b29a72",
   "metadata": {
    "tags": []
   },
   "outputs": [],
   "source": [
    "import numpy as np\n",
    "from sklearn.preprocessing import StandardScaler\n",
    "\n",
    "original_cols = ['Monetary', 'TotalPrice', 'Frequency', 'Recency', 'Quantity', 'UnitPrice']\n",
    "scaler = StandardScaler()\n",
    "\n",
    "# Standardize all columns at once (more efficient)\n",
    "data[original_cols] = scaler.fit_transform(data[original_cols])"
   ]
  },
  {
   "cell_type": "code",
   "execution_count": 49,
   "id": "c3b7434d-e97b-4547-8320-d65b570af5d5",
   "metadata": {},
   "outputs": [
    {
     "data": {
      "text/html": [
       "<div>\n",
       "<style scoped>\n",
       "    .dataframe tbody tr th:only-of-type {\n",
       "        vertical-align: middle;\n",
       "    }\n",
       "\n",
       "    .dataframe tbody tr th {\n",
       "        vertical-align: top;\n",
       "    }\n",
       "\n",
       "    .dataframe thead th {\n",
       "        text-align: right;\n",
       "    }\n",
       "</style>\n",
       "<table border=\"1\" class=\"dataframe\">\n",
       "  <thead>\n",
       "    <tr style=\"text-align: right;\">\n",
       "      <th></th>\n",
       "      <th>InvoiceNo</th>\n",
       "      <th>StockCode</th>\n",
       "      <th>Description</th>\n",
       "      <th>Quantity</th>\n",
       "      <th>UnitPrice</th>\n",
       "      <th>CustomerID</th>\n",
       "      <th>Country</th>\n",
       "      <th>TotalPrice</th>\n",
       "      <th>Recency</th>\n",
       "      <th>Frequency</th>\n",
       "      <th>Monetary</th>\n",
       "    </tr>\n",
       "  </thead>\n",
       "  <tbody>\n",
       "    <tr>\n",
       "      <th>0</th>\n",
       "      <td>541431</td>\n",
       "      <td>23166</td>\n",
       "      <td>MEDIUM CERAMIC TOP STORAGE JAR</td>\n",
       "      <td>298.449177</td>\n",
       "      <td>-0.034920</td>\n",
       "      <td>12346.0</td>\n",
       "      <td>United Kingdom</td>\n",
       "      <td>180.518195</td>\n",
       "      <td>NaN</td>\n",
       "      <td>-0.456376</td>\n",
       "      <td>4.378431</td>\n",
       "    </tr>\n",
       "    <tr>\n",
       "      <th>1</th>\n",
       "      <td>C541433</td>\n",
       "      <td>23166</td>\n",
       "      <td>MEDIUM CERAMIC TOP STORAGE JAR</td>\n",
       "      <td>298.449177</td>\n",
       "      <td>-0.034920</td>\n",
       "      <td>12346.0</td>\n",
       "      <td>United Kingdom</td>\n",
       "      <td>180.518195</td>\n",
       "      <td>-0.117531</td>\n",
       "      <td>-0.456376</td>\n",
       "      <td>4.378431</td>\n",
       "    </tr>\n",
       "    <tr>\n",
       "      <th>2</th>\n",
       "      <td>537626</td>\n",
       "      <td>85116</td>\n",
       "      <td>BLACK CANDELABRA T-LIGHT HOLDER</td>\n",
       "      <td>-0.005680</td>\n",
       "      <td>-0.019627</td>\n",
       "      <td>12347.0</td>\n",
       "      <td>Iceland</td>\n",
       "      <td>0.004194</td>\n",
       "      <td>NaN</td>\n",
       "      <td>-0.334077</td>\n",
       "      <td>-0.239387</td>\n",
       "    </tr>\n",
       "    <tr>\n",
       "      <th>3</th>\n",
       "      <td>537626</td>\n",
       "      <td>22375</td>\n",
       "      <td>AIRLINE BAG VINTAGE JET SET BROWN</td>\n",
       "      <td>-0.037858</td>\n",
       "      <td>0.011390</td>\n",
       "      <td>12347.0</td>\n",
       "      <td>Iceland</td>\n",
       "      <td>-0.014990</td>\n",
       "      <td>-0.117531</td>\n",
       "      <td>-0.334077</td>\n",
       "      <td>-0.239387</td>\n",
       "    </tr>\n",
       "    <tr>\n",
       "      <th>4</th>\n",
       "      <td>537626</td>\n",
       "      <td>71477</td>\n",
       "      <td>COLOUR GLASS. STAR T-LIGHT HOLDER</td>\n",
       "      <td>-0.005680</td>\n",
       "      <td>-0.003036</td>\n",
       "      <td>12347.0</td>\n",
       "      <td>Iceland</td>\n",
       "      <td>0.036480</td>\n",
       "      <td>-0.117531</td>\n",
       "      <td>-0.334077</td>\n",
       "      <td>-0.239387</td>\n",
       "    </tr>\n",
       "  </tbody>\n",
       "</table>\n",
       "</div>"
      ],
      "text/plain": [
       "  InvoiceNo StockCode                        Description    Quantity  \\\n",
       "0    541431     23166     MEDIUM CERAMIC TOP STORAGE JAR  298.449177   \n",
       "1   C541433     23166     MEDIUM CERAMIC TOP STORAGE JAR  298.449177   \n",
       "2    537626     85116    BLACK CANDELABRA T-LIGHT HOLDER   -0.005680   \n",
       "3    537626     22375  AIRLINE BAG VINTAGE JET SET BROWN   -0.037858   \n",
       "4    537626     71477  COLOUR GLASS. STAR T-LIGHT HOLDER   -0.005680   \n",
       "\n",
       "   UnitPrice  CustomerID         Country  TotalPrice   Recency  Frequency  \\\n",
       "0  -0.034920     12346.0  United Kingdom  180.518195       NaN  -0.456376   \n",
       "1  -0.034920     12346.0  United Kingdom  180.518195 -0.117531  -0.456376   \n",
       "2  -0.019627     12347.0         Iceland    0.004194       NaN  -0.334077   \n",
       "3   0.011390     12347.0         Iceland   -0.014990 -0.117531  -0.334077   \n",
       "4  -0.003036     12347.0         Iceland    0.036480 -0.117531  -0.334077   \n",
       "\n",
       "   Monetary  \n",
       "0  4.378431  \n",
       "1  4.378431  \n",
       "2 -0.239387  \n",
       "3 -0.239387  \n",
       "4 -0.239387  "
      ]
     },
     "execution_count": 49,
     "metadata": {},
     "output_type": "execute_result"
    }
   ],
   "source": [
    "data.head()"
   ]
  },
  {
   "cell_type": "markdown",
   "id": "69d43564-026e-4241-a302-4579410f3718",
   "metadata": {},
   "source": [
    "### Data Split - Spliting the data into training, validation and test sets"
   ]
  },
  {
   "cell_type": "code",
   "execution_count": 50,
   "id": "ec7de599-22a3-4a9d-b9a4-8ed2fad2660c",
   "metadata": {
    "tags": []
   },
   "outputs": [],
   "source": [
    "from sklearn.model_selection import train_test_split"
   ]
  },
  {
   "cell_type": "code",
   "execution_count": 51,
   "id": "e160b811-e36f-4e88-8baa-973406125ff3",
   "metadata": {
    "tags": []
   },
   "outputs": [],
   "source": [
    "# X = data.drop(columns=['Monetary'])\n",
    "# y = data['Monetary']"
   ]
  },
  {
   "cell_type": "code",
   "execution_count": 52,
   "id": "60c8dd63-876e-43d4-814b-a5d858fa8f36",
   "metadata": {
    "tags": []
   },
   "outputs": [],
   "source": [
    "# X.head()"
   ]
  },
  {
   "cell_type": "code",
   "execution_count": 53,
   "id": "adf289bf-1ced-48c1-9b1d-59af3b93a20b",
   "metadata": {
    "tags": []
   },
   "outputs": [],
   "source": [
    "# # Option 1A: Use Monetary as CLV (simplest)\n",
    "# y = df['Monetary']  # Total customer spend so far\n",
    "\n",
    "# # Option 1B: Calculate more sophisticated CLV\n",
    "# df['CLV'] = df['Monetary'] * (df['Frequency'] / df['customer_lifetime_days']) * 365\n",
    "# # This estimates annual customer value\n",
    "# y = df['CLV']\n",
    "\n",
    "# # Option 1C: Future CLV prediction\n",
    "# # If you want to predict future value, create a forward-looking metric\n",
    "# df['Average_Order_Value'] = df['Monetary'] / df['Frequency']\n",
    "# df['Purchase_Rate'] = df['Frequency'] / df['customer_lifetime_days']\n",
    "# df['Predicted_CLV'] = df['Average_Order_Value'] * df['Purchase_Rate'] * 365\n",
    "# y = df['Predicted_CLV']"
   ]
  },
  {
   "cell_type": "code",
   "execution_count": 54,
   "id": "446a0903-0d80-4d74-bf3c-41ae792b8249",
   "metadata": {},
   "outputs": [],
   "source": [
    "train, test= train_test_split(data,test_size= 0.25, random_state= 42)"
   ]
  },
  {
   "cell_type": "code",
   "execution_count": 55,
   "id": "9f9b879e-a5a2-4f84-aab2-3a3fbbdffd65",
   "metadata": {
    "tags": []
   },
   "outputs": [
    {
     "data": {
      "text/html": [
       "<div>\n",
       "<style scoped>\n",
       "    .dataframe tbody tr th:only-of-type {\n",
       "        vertical-align: middle;\n",
       "    }\n",
       "\n",
       "    .dataframe tbody tr th {\n",
       "        vertical-align: top;\n",
       "    }\n",
       "\n",
       "    .dataframe thead th {\n",
       "        text-align: right;\n",
       "    }\n",
       "</style>\n",
       "<table border=\"1\" class=\"dataframe\">\n",
       "  <thead>\n",
       "    <tr style=\"text-align: right;\">\n",
       "      <th></th>\n",
       "      <th>InvoiceNo</th>\n",
       "      <th>StockCode</th>\n",
       "      <th>Description</th>\n",
       "      <th>Quantity</th>\n",
       "      <th>UnitPrice</th>\n",
       "      <th>CustomerID</th>\n",
       "      <th>Country</th>\n",
       "      <th>TotalPrice</th>\n",
       "      <th>Recency</th>\n",
       "      <th>Frequency</th>\n",
       "      <th>Monetary</th>\n",
       "    </tr>\n",
       "  </thead>\n",
       "  <tbody>\n",
       "    <tr>\n",
       "      <th>169442</th>\n",
       "      <td>556776</td>\n",
       "      <td>47590B</td>\n",
       "      <td>PINK HAPPY BIRTHDAY BUNTING</td>\n",
       "      <td>-0.045902</td>\n",
       "      <td>0.028703</td>\n",
       "      <td>14730.0</td>\n",
       "      <td>United Kingdom</td>\n",
       "      <td>-0.029261</td>\n",
       "      <td>-0.117531</td>\n",
       "      <td>-0.117336</td>\n",
       "      <td>-0.310319</td>\n",
       "    </tr>\n",
       "    <tr>\n",
       "      <th>132961</th>\n",
       "      <td>561534</td>\n",
       "      <td>84077</td>\n",
       "      <td>WORLD WAR 2 GLIDERS ASSTD DESIGNS</td>\n",
       "      <td>0.332179</td>\n",
       "      <td>-0.045740</td>\n",
       "      <td>14307.0</td>\n",
       "      <td>United Kingdom</td>\n",
       "      <td>0.010371</td>\n",
       "      <td>-0.117531</td>\n",
       "      <td>-0.335436</td>\n",
       "      <td>-0.279833</td>\n",
       "    </tr>\n",
       "    <tr>\n",
       "      <th>308208</th>\n",
       "      <td>554853</td>\n",
       "      <td>22386</td>\n",
       "      <td>JUMBO BAG PINK POLKADOT</td>\n",
       "      <td>-0.013725</td>\n",
       "      <td>-0.019916</td>\n",
       "      <td>16839.0</td>\n",
       "      <td>United Kingdom</td>\n",
       "      <td>-0.006100</td>\n",
       "      <td>-0.117531</td>\n",
       "      <td>-0.255262</td>\n",
       "      <td>0.176701</td>\n",
       "    </tr>\n",
       "    <tr>\n",
       "      <th>402338</th>\n",
       "      <td>555124</td>\n",
       "      <td>21159</td>\n",
       "      <td>MOODY BOY  DOOR HANGER</td>\n",
       "      <td>-0.045902</td>\n",
       "      <td>-0.029005</td>\n",
       "      <td>18204.0</td>\n",
       "      <td>United Kingdom</td>\n",
       "      <td>-0.047977</td>\n",
       "      <td>-0.117531</td>\n",
       "      <td>-0.320488</td>\n",
       "      <td>-0.310226</td>\n",
       "    </tr>\n",
       "    <tr>\n",
       "      <th>244808</th>\n",
       "      <td>543996</td>\n",
       "      <td>21533</td>\n",
       "      <td>RETROSPOT LARGE MILK JUG</td>\n",
       "      <td>-0.029813</td>\n",
       "      <td>0.021489</td>\n",
       "      <td>15811.0</td>\n",
       "      <td>United Kingdom</td>\n",
       "      <td>0.014722</td>\n",
       "      <td>-0.117531</td>\n",
       "      <td>-0.363293</td>\n",
       "      <td>-0.302291</td>\n",
       "    </tr>\n",
       "    <tr>\n",
       "      <th>...</th>\n",
       "      <td>...</td>\n",
       "      <td>...</td>\n",
       "      <td>...</td>\n",
       "      <td>...</td>\n",
       "      <td>...</td>\n",
       "      <td>...</td>\n",
       "      <td>...</td>\n",
       "      <td>...</td>\n",
       "      <td>...</td>\n",
       "      <td>...</td>\n",
       "      <td>...</td>\n",
       "    </tr>\n",
       "    <tr>\n",
       "      <th>259178</th>\n",
       "      <td>563444</td>\n",
       "      <td>85123A</td>\n",
       "      <td>WHITE HANGING HEART T-LIGHT HOLDER</td>\n",
       "      <td>-0.029813</td>\n",
       "      <td>-0.007365</td>\n",
       "      <td>16033.0</td>\n",
       "      <td>United Kingdom</td>\n",
       "      <td>-0.013352</td>\n",
       "      <td>-0.117531</td>\n",
       "      <td>0.324978</td>\n",
       "      <td>-0.097976</td>\n",
       "    </tr>\n",
       "    <tr>\n",
       "      <th>365838</th>\n",
       "      <td>566732</td>\n",
       "      <td>22572</td>\n",
       "      <td>ROCKING HORSE GREEN CHRISTMAS</td>\n",
       "      <td>-0.005680</td>\n",
       "      <td>-0.037661</td>\n",
       "      <td>17716.0</td>\n",
       "      <td>United Kingdom</td>\n",
       "      <td>-0.030899</td>\n",
       "      <td>-0.117531</td>\n",
       "      <td>-0.285157</td>\n",
       "      <td>-0.193344</td>\n",
       "    </tr>\n",
       "    <tr>\n",
       "      <th>131932</th>\n",
       "      <td>560844</td>\n",
       "      <td>23237</td>\n",
       "      <td>SET OF 4 KNICK KNACK TINS LEAVES</td>\n",
       "      <td>-0.005680</td>\n",
       "      <td>0.004177</td>\n",
       "      <td>14298.0</td>\n",
       "      <td>United Kingdom</td>\n",
       "      <td>0.050517</td>\n",
       "      <td>-0.117531</td>\n",
       "      <td>0.656544</td>\n",
       "      <td>1.234125</td>\n",
       "    </tr>\n",
       "    <tr>\n",
       "      <th>146867</th>\n",
       "      <td>569524</td>\n",
       "      <td>23210</td>\n",
       "      <td>WHITE ROCKING HORSE HAND PAINTED</td>\n",
       "      <td>-0.049924</td>\n",
       "      <td>-0.031890</td>\n",
       "      <td>14506.0</td>\n",
       "      <td>United Kingdom</td>\n",
       "      <td>-0.051837</td>\n",
       "      <td>-0.117531</td>\n",
       "      <td>-0.243032</td>\n",
       "      <td>-0.310100</td>\n",
       "    </tr>\n",
       "    <tr>\n",
       "      <th>121958</th>\n",
       "      <td>538374</td>\n",
       "      <td>22664</td>\n",
       "      <td>TOY TIDY DOLLY GIRL DESIGN</td>\n",
       "      <td>-0.041880</td>\n",
       "      <td>-0.019627</td>\n",
       "      <td>14159.0</td>\n",
       "      <td>United Kingdom</td>\n",
       "      <td>-0.040023</td>\n",
       "      <td>-0.117531</td>\n",
       "      <td>0.365745</td>\n",
       "      <td>-0.227148</td>\n",
       "    </tr>\n",
       "  </tbody>\n",
       "</table>\n",
       "<p>305121 rows × 11 columns</p>\n",
       "</div>"
      ],
      "text/plain": [
       "       InvoiceNo StockCode                         Description  Quantity  \\\n",
       "169442    556776    47590B         PINK HAPPY BIRTHDAY BUNTING -0.045902   \n",
       "132961    561534     84077   WORLD WAR 2 GLIDERS ASSTD DESIGNS  0.332179   \n",
       "308208    554853     22386             JUMBO BAG PINK POLKADOT -0.013725   \n",
       "402338    555124     21159             MOODY BOY  DOOR HANGER  -0.045902   \n",
       "244808    543996     21533            RETROSPOT LARGE MILK JUG -0.029813   \n",
       "...          ...       ...                                 ...       ...   \n",
       "259178    563444    85123A  WHITE HANGING HEART T-LIGHT HOLDER -0.029813   \n",
       "365838    566732     22572      ROCKING HORSE GREEN CHRISTMAS  -0.005680   \n",
       "131932    560844     23237   SET OF 4 KNICK KNACK TINS LEAVES  -0.005680   \n",
       "146867    569524     23210    WHITE ROCKING HORSE HAND PAINTED -0.049924   \n",
       "121958    538374     22664          TOY TIDY DOLLY GIRL DESIGN -0.041880   \n",
       "\n",
       "        UnitPrice  CustomerID         Country  TotalPrice   Recency  \\\n",
       "169442   0.028703     14730.0  United Kingdom   -0.029261 -0.117531   \n",
       "132961  -0.045740     14307.0  United Kingdom    0.010371 -0.117531   \n",
       "308208  -0.019916     16839.0  United Kingdom   -0.006100 -0.117531   \n",
       "402338  -0.029005     18204.0  United Kingdom   -0.047977 -0.117531   \n",
       "244808   0.021489     15811.0  United Kingdom    0.014722 -0.117531   \n",
       "...           ...         ...             ...         ...       ...   \n",
       "259178  -0.007365     16033.0  United Kingdom   -0.013352 -0.117531   \n",
       "365838  -0.037661     17716.0  United Kingdom   -0.030899 -0.117531   \n",
       "131932   0.004177     14298.0  United Kingdom    0.050517 -0.117531   \n",
       "146867  -0.031890     14506.0  United Kingdom   -0.051837 -0.117531   \n",
       "121958  -0.019627     14159.0  United Kingdom   -0.040023 -0.117531   \n",
       "\n",
       "        Frequency  Monetary  \n",
       "169442  -0.117336 -0.310319  \n",
       "132961  -0.335436 -0.279833  \n",
       "308208  -0.255262  0.176701  \n",
       "402338  -0.320488 -0.310226  \n",
       "244808  -0.363293 -0.302291  \n",
       "...           ...       ...  \n",
       "259178   0.324978 -0.097976  \n",
       "365838  -0.285157 -0.193344  \n",
       "131932   0.656544  1.234125  \n",
       "146867  -0.243032 -0.310100  \n",
       "121958   0.365745 -0.227148  \n",
       "\n",
       "[305121 rows x 11 columns]"
      ]
     },
     "execution_count": 55,
     "metadata": {},
     "output_type": "execute_result"
    }
   ],
   "source": [
    "train"
   ]
  },
  {
   "cell_type": "code",
   "execution_count": 56,
   "id": "310070bc-e523-460e-a386-d62bd13dd904",
   "metadata": {
    "tags": []
   },
   "outputs": [
    {
     "name": "stdout",
     "output_type": "stream",
     "text": [
      "<class 'pandas.core.frame.DataFrame'>\n",
      "Index: 305121 entries, 169442 to 121958\n",
      "Data columns (total 11 columns):\n",
      " #   Column       Non-Null Count   Dtype  \n",
      "---  ------       --------------   -----  \n",
      " 0   InvoiceNo    305121 non-null  object \n",
      " 1   StockCode    305121 non-null  object \n",
      " 2   Description  305121 non-null  object \n",
      " 3   Quantity     305121 non-null  float64\n",
      " 4   UnitPrice    305121 non-null  float64\n",
      " 5   CustomerID   305121 non-null  float64\n",
      " 6   Country      305121 non-null  object \n",
      " 7   TotalPrice   305121 non-null  float64\n",
      " 8   Recency      301852 non-null  float64\n",
      " 9   Frequency    305121 non-null  float64\n",
      " 10  Monetary     305121 non-null  float64\n",
      "dtypes: float64(7), object(4)\n",
      "memory usage: 27.9+ MB\n"
     ]
    }
   ],
   "source": [
    "train.info()"
   ]
  },
  {
   "cell_type": "code",
   "execution_count": 57,
   "id": "204451f9-b063-480e-bcb8-2f9787174161",
   "metadata": {
    "tags": []
   },
   "outputs": [],
   "source": [
    "## Train dataset\n",
    "train_x = train.drop(['Monetary'], axis=1).values\n",
    "train_y = train[['Monetary']].values.ravel()\n",
    "\n",
    "## Test dataset\n",
    "test_x =test.drop(['Monetary'], axis=1).values\n",
    "test_y =test[['Monetary']].values.ravel()\n",
    "\n",
    "##  Splitting this train data inot train and validation\n",
    "\n",
    "train_x, valid_x, train_y, valid_y = train_test_split(train_x, train_y, test_size=0.20, random_state=42)\n",
    "\n",
    "signature=infer_signature(train_x, train_y)"
   ]
  },
  {
   "cell_type": "markdown",
   "id": "a1a5e355-e4fa-4a82-8b91-bb229196f88c",
   "metadata": {
    "tags": []
   },
   "source": [
    "### ANN Model"
   ]
  },
  {
   "cell_type": "code",
   "execution_count": 58,
   "id": "944a9c39-5f59-4881-a573-a2abba76fc13",
   "metadata": {
    "tags": []
   },
   "outputs": [],
   "source": [
    "def train_model(param, epochs, train_x, train_y, valid_x, valid_y, test_x, test_y):\n",
    "    \n",
    "    ## Define model Architecture\n",
    "    mean= np.mean(train_x, axis=0)                              ##Normalization\n",
    "    var=np.var(train_x,axis=0)\n",
    "    \n",
    "    model=keras.Sequential(\n",
    "    [\n",
    "        keras.Input([train_x.shape[1]]),                        ##Input shape {Number of columns}\n",
    "        keras.layers.Normalization(mean=mean, variance=var),    ## Normalization\n",
    "        keras.layers.Dense(64, activation ='relu'),             ## Hidden Neurons {64  layers}\n",
    "        keras.layers.Dense(1)                                   ## Output Layer {1 output layer}\n",
    "    ])\n",
    "    \n",
    "    ## Compile the model\n",
    "    model.compile(optimizer=keras.optimizers.SGD(\n",
    "        learning_rate =param[\"lr\"],                             ## train with differernt learning rate \n",
    "        momentum =param['momentum']                             ## train with multile momentum\n",
    "    ),\n",
    "                  loss=\"mean_squared_error\",\n",
    "                  metrics=[keras.metrics.RootMeanSquaredError()]\n",
    "    )\n",
    "    \n",
    "    ## Trean the ANN model with lr and momentum parameters with MLFlow trackering\n",
    "    with mlflow.start_run(nested = True):\n",
    "        model.fit(train_x, train_y, validation_data= (valid_x, valid_y),\n",
    "                 epochs=epochs,\n",
    "                 batch_size=64\n",
    "                 )\n",
    "        ## Evaluate the model\n",
    "        eval_result = model.evaluate(valid_x, valid_y, batch_size=64)\n",
    "        eval_rmse = eval_result[1]\n",
    "        \n",
    "        ## Log the parameters and results\n",
    "        mlflow.log_params(param)\n",
    "        mlflow.log_metric(\"eval_rmse\", eval_rmse)\n",
    "        \n",
    "        ## Log the model\n",
    "        mlflow.tensorflow.log_model(model, \"model\", signature= signature)\n",
    "        \n",
    "        return {\"loss\": eval_rmse, \"status\": STATUS_OK, \"model\": model}"
   ]
  },
  {
   "cell_type": "code",
   "execution_count": null,
   "id": "6776c52f-1c1d-4f59-87da-7e4bcae86920",
   "metadata": {
    "tags": []
   },
   "outputs": [],
   "source": [
    "def objective(params):\n",
    "    ## MLFlow will track the parameters and results for each run\n",
    "    result = train_model(\n",
    "        params,\n",
    "        epochs =3,\n",
    "        train_x = np.array(train_x),\n",
    "        valid_x = np.array(valid_x),\n",
    "        test_x = np.array(test_x),\n",
    "        train_y = np.array(train_y),\n",
    "        valid_y = np.array(valid_y),\n",
    "        test_y = np.array(test_y),\n",
    "\n",
    "\n",
    "    )\n",
    "    return result"
   ]
  },
  {
   "cell_type": "code",
   "execution_count": 60,
   "id": "6ea097e8-ff51-4a5c-af40-6082e0b21cf7",
   "metadata": {
    "tags": []
   },
   "outputs": [],
   "source": [
    "## Set all parameters\n",
    "space={\n",
    "    \"lr\": hp.loguniform(\"lr\",np.log(1e-5),np.log(1e-1)),\n",
    "    \"momentum\": hp.uniform(\"momentum\", 0.0, 1.0)\n",
    "}\n"
   ]
  },
  {
   "cell_type": "code",
   "execution_count": 61,
   "id": "fa520053-580a-4e24-91b5-b2977cd738d6",
   "metadata": {
    "tags": []
   },
   "outputs": [
    {
     "name": "stdout",
     "output_type": "stream",
     "text": [
      "  0%|          | 0/4 [00:00<?, ?trial/s, best loss=?]"
     ]
    },
    {
     "name": "stderr",
     "output_type": "stream",
     "text": [
      "job exception: unsupported operand type(s) for /: 'str' and 'int'\n",
      "\n"
     ]
    },
    {
     "name": "stdout",
     "output_type": "stream",
     "text": [
      "  0%|          | 0/4 [04:20<?, ?trial/s, best loss=?]\n"
     ]
    },
    {
     "ename": "TypeError",
     "evalue": "unsupported operand type(s) for /: 'str' and 'int'",
     "output_type": "error",
     "traceback": [
      "\u001b[31m---------------------------------------------------------------------------\u001b[39m",
      "\u001b[31mTypeError\u001b[39m                                 Traceback (most recent call last)",
      "\u001b[36mCell\u001b[39m\u001b[36m \u001b[39m\u001b[32mIn[61]\u001b[39m\u001b[32m, line 5\u001b[39m\n\u001b[32m      2\u001b[39m \u001b[38;5;28;01mwith\u001b[39;00m mlflow.start_run():\n\u001b[32m      3\u001b[39m     \u001b[38;5;66;03m# Conduct the hyperparameter search using Hyperopt\u001b[39;00m\n\u001b[32m      4\u001b[39m     trials= Trials()\n\u001b[32m----> \u001b[39m\u001b[32m5\u001b[39m     best=\u001b[43mfmin\u001b[49m\u001b[43m(\u001b[49m\n\u001b[32m      6\u001b[39m \u001b[43m        \u001b[49m\u001b[43mfn\u001b[49m\u001b[43m=\u001b[49m\u001b[43mobjective\u001b[49m\u001b[43m,\u001b[49m\n\u001b[32m      7\u001b[39m \u001b[43m        \u001b[49m\u001b[43mspace\u001b[49m\u001b[43m=\u001b[49m\u001b[43mspace\u001b[49m\u001b[43m,\u001b[49m\n\u001b[32m      8\u001b[39m \u001b[43m        \u001b[49m\u001b[43malgo\u001b[49m\u001b[43m=\u001b[49m\u001b[43mtpe\u001b[49m\u001b[43m.\u001b[49m\u001b[43msuggest\u001b[49m\u001b[43m,\u001b[49m\n\u001b[32m      9\u001b[39m \u001b[43m        \u001b[49m\u001b[43mmax_evals\u001b[49m\u001b[43m=\u001b[49m\u001b[32;43m4\u001b[39;49m\u001b[43m,\u001b[49m\n\u001b[32m     10\u001b[39m \u001b[43m        \u001b[49m\u001b[43mtrials\u001b[49m\u001b[43m=\u001b[49m\u001b[43mtrials\u001b[49m\n\u001b[32m     11\u001b[39m \u001b[43m    \u001b[49m\u001b[43m)\u001b[49m\n\u001b[32m     14\u001b[39m     \u001b[38;5;66;03m# featch the details of the best run\u001b[39;00m\n\u001b[32m     15\u001b[39m     best_run = \u001b[38;5;28msorted\u001b[39m(trials.results, key=\u001b[38;5;28;01mlambda\u001b[39;00m x:x[\u001b[33m\"\u001b[39m\u001b[33mloss\u001b[39m\u001b[33m\"\u001b[39m])[\u001b[32m0\u001b[39m]\n",
      "\u001b[36mFile \u001b[39m\u001b[32md:\\Melbin\\SELF\\Customer_Lifetime_Value_Prediction\\.venv\\Lib\\site-packages\\hyperopt\\fmin.py:540\u001b[39m, in \u001b[36mfmin\u001b[39m\u001b[34m(fn, space, algo, max_evals, timeout, loss_threshold, trials, rstate, allow_trials_fmin, pass_expr_memo_ctrl, catch_eval_exceptions, verbose, return_argmin, points_to_evaluate, max_queue_len, show_progressbar, early_stop_fn, trials_save_file)\u001b[39m\n\u001b[32m    537\u001b[39m     fn = __objective_fmin_wrapper(fn)\n\u001b[32m    539\u001b[39m \u001b[38;5;28;01mif\u001b[39;00m allow_trials_fmin \u001b[38;5;129;01mand\u001b[39;00m \u001b[38;5;28mhasattr\u001b[39m(trials, \u001b[33m\"\u001b[39m\u001b[33mfmin\u001b[39m\u001b[33m\"\u001b[39m):\n\u001b[32m--> \u001b[39m\u001b[32m540\u001b[39m     \u001b[38;5;28;01mreturn\u001b[39;00m \u001b[43mtrials\u001b[49m\u001b[43m.\u001b[49m\u001b[43mfmin\u001b[49m\u001b[43m(\u001b[49m\n\u001b[32m    541\u001b[39m \u001b[43m        \u001b[49m\u001b[43mfn\u001b[49m\u001b[43m,\u001b[49m\n\u001b[32m    542\u001b[39m \u001b[43m        \u001b[49m\u001b[43mspace\u001b[49m\u001b[43m,\u001b[49m\n\u001b[32m    543\u001b[39m \u001b[43m        \u001b[49m\u001b[43malgo\u001b[49m\u001b[43m=\u001b[49m\u001b[43malgo\u001b[49m\u001b[43m,\u001b[49m\n\u001b[32m    544\u001b[39m \u001b[43m        \u001b[49m\u001b[43mmax_evals\u001b[49m\u001b[43m=\u001b[49m\u001b[43mmax_evals\u001b[49m\u001b[43m,\u001b[49m\n\u001b[32m    545\u001b[39m \u001b[43m        \u001b[49m\u001b[43mtimeout\u001b[49m\u001b[43m=\u001b[49m\u001b[43mtimeout\u001b[49m\u001b[43m,\u001b[49m\n\u001b[32m    546\u001b[39m \u001b[43m        \u001b[49m\u001b[43mloss_threshold\u001b[49m\u001b[43m=\u001b[49m\u001b[43mloss_threshold\u001b[49m\u001b[43m,\u001b[49m\n\u001b[32m    547\u001b[39m \u001b[43m        \u001b[49m\u001b[43mmax_queue_len\u001b[49m\u001b[43m=\u001b[49m\u001b[43mmax_queue_len\u001b[49m\u001b[43m,\u001b[49m\n\u001b[32m    548\u001b[39m \u001b[43m        \u001b[49m\u001b[43mrstate\u001b[49m\u001b[43m=\u001b[49m\u001b[43mrstate\u001b[49m\u001b[43m,\u001b[49m\n\u001b[32m    549\u001b[39m \u001b[43m        \u001b[49m\u001b[43mpass_expr_memo_ctrl\u001b[49m\u001b[43m=\u001b[49m\u001b[43mpass_expr_memo_ctrl\u001b[49m\u001b[43m,\u001b[49m\n\u001b[32m    550\u001b[39m \u001b[43m        \u001b[49m\u001b[43mverbose\u001b[49m\u001b[43m=\u001b[49m\u001b[43mverbose\u001b[49m\u001b[43m,\u001b[49m\n\u001b[32m    551\u001b[39m \u001b[43m        \u001b[49m\u001b[43mcatch_eval_exceptions\u001b[49m\u001b[43m=\u001b[49m\u001b[43mcatch_eval_exceptions\u001b[49m\u001b[43m,\u001b[49m\n\u001b[32m    552\u001b[39m \u001b[43m        \u001b[49m\u001b[43mreturn_argmin\u001b[49m\u001b[43m=\u001b[49m\u001b[43mreturn_argmin\u001b[49m\u001b[43m,\u001b[49m\n\u001b[32m    553\u001b[39m \u001b[43m        \u001b[49m\u001b[43mshow_progressbar\u001b[49m\u001b[43m=\u001b[49m\u001b[43mshow_progressbar\u001b[49m\u001b[43m,\u001b[49m\n\u001b[32m    554\u001b[39m \u001b[43m        \u001b[49m\u001b[43mearly_stop_fn\u001b[49m\u001b[43m=\u001b[49m\u001b[43mearly_stop_fn\u001b[49m\u001b[43m,\u001b[49m\n\u001b[32m    555\u001b[39m \u001b[43m        \u001b[49m\u001b[43mtrials_save_file\u001b[49m\u001b[43m=\u001b[49m\u001b[43mtrials_save_file\u001b[49m\u001b[43m,\u001b[49m\n\u001b[32m    556\u001b[39m \u001b[43m    \u001b[49m\u001b[43m)\u001b[49m\n\u001b[32m    558\u001b[39m \u001b[38;5;28;01mif\u001b[39;00m trials \u001b[38;5;129;01mis\u001b[39;00m \u001b[38;5;28;01mNone\u001b[39;00m:\n\u001b[32m    559\u001b[39m     \u001b[38;5;28;01mif\u001b[39;00m os.path.exists(trials_save_file):\n",
      "\u001b[36mFile \u001b[39m\u001b[32md:\\Melbin\\SELF\\Customer_Lifetime_Value_Prediction\\.venv\\Lib\\site-packages\\hyperopt\\base.py:671\u001b[39m, in \u001b[36mTrials.fmin\u001b[39m\u001b[34m(self, fn, space, algo, max_evals, timeout, loss_threshold, max_queue_len, rstate, verbose, pass_expr_memo_ctrl, catch_eval_exceptions, return_argmin, show_progressbar, early_stop_fn, trials_save_file)\u001b[39m\n\u001b[32m    666\u001b[39m \u001b[38;5;66;03m# -- Stop-gap implementation!\u001b[39;00m\n\u001b[32m    667\u001b[39m \u001b[38;5;66;03m#    fmin should have been a Trials method in the first place\u001b[39;00m\n\u001b[32m    668\u001b[39m \u001b[38;5;66;03m#    but for now it's still sitting in another file.\u001b[39;00m\n\u001b[32m    669\u001b[39m \u001b[38;5;28;01mfrom\u001b[39;00m\u001b[38;5;250m \u001b[39m\u001b[34;01m.\u001b[39;00m\u001b[34;01mfmin\u001b[39;00m\u001b[38;5;250m \u001b[39m\u001b[38;5;28;01mimport\u001b[39;00m fmin\n\u001b[32m--> \u001b[39m\u001b[32m671\u001b[39m \u001b[38;5;28;01mreturn\u001b[39;00m \u001b[43mfmin\u001b[49m\u001b[43m(\u001b[49m\n\u001b[32m    672\u001b[39m \u001b[43m    \u001b[49m\u001b[43mfn\u001b[49m\u001b[43m,\u001b[49m\n\u001b[32m    673\u001b[39m \u001b[43m    \u001b[49m\u001b[43mspace\u001b[49m\u001b[43m,\u001b[49m\n\u001b[32m    674\u001b[39m \u001b[43m    \u001b[49m\u001b[43malgo\u001b[49m\u001b[43m=\u001b[49m\u001b[43malgo\u001b[49m\u001b[43m,\u001b[49m\n\u001b[32m    675\u001b[39m \u001b[43m    \u001b[49m\u001b[43mmax_evals\u001b[49m\u001b[43m=\u001b[49m\u001b[43mmax_evals\u001b[49m\u001b[43m,\u001b[49m\n\u001b[32m    676\u001b[39m \u001b[43m    \u001b[49m\u001b[43mtimeout\u001b[49m\u001b[43m=\u001b[49m\u001b[43mtimeout\u001b[49m\u001b[43m,\u001b[49m\n\u001b[32m    677\u001b[39m \u001b[43m    \u001b[49m\u001b[43mloss_threshold\u001b[49m\u001b[43m=\u001b[49m\u001b[43mloss_threshold\u001b[49m\u001b[43m,\u001b[49m\n\u001b[32m    678\u001b[39m \u001b[43m    \u001b[49m\u001b[43mtrials\u001b[49m\u001b[43m=\u001b[49m\u001b[38;5;28;43mself\u001b[39;49m\u001b[43m,\u001b[49m\n\u001b[32m    679\u001b[39m \u001b[43m    \u001b[49m\u001b[43mrstate\u001b[49m\u001b[43m=\u001b[49m\u001b[43mrstate\u001b[49m\u001b[43m,\u001b[49m\n\u001b[32m    680\u001b[39m \u001b[43m    \u001b[49m\u001b[43mverbose\u001b[49m\u001b[43m=\u001b[49m\u001b[43mverbose\u001b[49m\u001b[43m,\u001b[49m\n\u001b[32m    681\u001b[39m \u001b[43m    \u001b[49m\u001b[43mmax_queue_len\u001b[49m\u001b[43m=\u001b[49m\u001b[43mmax_queue_len\u001b[49m\u001b[43m,\u001b[49m\n\u001b[32m    682\u001b[39m \u001b[43m    \u001b[49m\u001b[43mallow_trials_fmin\u001b[49m\u001b[43m=\u001b[49m\u001b[38;5;28;43;01mFalse\u001b[39;49;00m\u001b[43m,\u001b[49m\u001b[43m  \u001b[49m\u001b[38;5;66;43;03m# -- prevent recursion\u001b[39;49;00m\n\u001b[32m    683\u001b[39m \u001b[43m    \u001b[49m\u001b[43mpass_expr_memo_ctrl\u001b[49m\u001b[43m=\u001b[49m\u001b[43mpass_expr_memo_ctrl\u001b[49m\u001b[43m,\u001b[49m\n\u001b[32m    684\u001b[39m \u001b[43m    \u001b[49m\u001b[43mcatch_eval_exceptions\u001b[49m\u001b[43m=\u001b[49m\u001b[43mcatch_eval_exceptions\u001b[49m\u001b[43m,\u001b[49m\n\u001b[32m    685\u001b[39m \u001b[43m    \u001b[49m\u001b[43mreturn_argmin\u001b[49m\u001b[43m=\u001b[49m\u001b[43mreturn_argmin\u001b[49m\u001b[43m,\u001b[49m\n\u001b[32m    686\u001b[39m \u001b[43m    \u001b[49m\u001b[43mshow_progressbar\u001b[49m\u001b[43m=\u001b[49m\u001b[43mshow_progressbar\u001b[49m\u001b[43m,\u001b[49m\n\u001b[32m    687\u001b[39m \u001b[43m    \u001b[49m\u001b[43mearly_stop_fn\u001b[49m\u001b[43m=\u001b[49m\u001b[43mearly_stop_fn\u001b[49m\u001b[43m,\u001b[49m\n\u001b[32m    688\u001b[39m \u001b[43m    \u001b[49m\u001b[43mtrials_save_file\u001b[49m\u001b[43m=\u001b[49m\u001b[43mtrials_save_file\u001b[49m\u001b[43m,\u001b[49m\n\u001b[32m    689\u001b[39m \u001b[43m\u001b[49m\u001b[43m)\u001b[49m\n",
      "\u001b[36mFile \u001b[39m\u001b[32md:\\Melbin\\SELF\\Customer_Lifetime_Value_Prediction\\.venv\\Lib\\site-packages\\hyperopt\\fmin.py:586\u001b[39m, in \u001b[36mfmin\u001b[39m\u001b[34m(fn, space, algo, max_evals, timeout, loss_threshold, trials, rstate, allow_trials_fmin, pass_expr_memo_ctrl, catch_eval_exceptions, verbose, return_argmin, points_to_evaluate, max_queue_len, show_progressbar, early_stop_fn, trials_save_file)\u001b[39m\n\u001b[32m    583\u001b[39m rval.catch_eval_exceptions = catch_eval_exceptions\n\u001b[32m    585\u001b[39m \u001b[38;5;66;03m# next line is where the fmin is actually executed\u001b[39;00m\n\u001b[32m--> \u001b[39m\u001b[32m586\u001b[39m \u001b[43mrval\u001b[49m\u001b[43m.\u001b[49m\u001b[43mexhaust\u001b[49m\u001b[43m(\u001b[49m\u001b[43m)\u001b[49m\n\u001b[32m    588\u001b[39m \u001b[38;5;28;01mif\u001b[39;00m return_argmin:\n\u001b[32m    589\u001b[39m     \u001b[38;5;28;01mif\u001b[39;00m \u001b[38;5;28mlen\u001b[39m(trials.trials) == \u001b[32m0\u001b[39m:\n",
      "\u001b[36mFile \u001b[39m\u001b[32md:\\Melbin\\SELF\\Customer_Lifetime_Value_Prediction\\.venv\\Lib\\site-packages\\hyperopt\\fmin.py:364\u001b[39m, in \u001b[36mFMinIter.exhaust\u001b[39m\u001b[34m(self)\u001b[39m\n\u001b[32m    362\u001b[39m \u001b[38;5;28;01mdef\u001b[39;00m\u001b[38;5;250m \u001b[39m\u001b[34mexhaust\u001b[39m(\u001b[38;5;28mself\u001b[39m):\n\u001b[32m    363\u001b[39m     n_done = \u001b[38;5;28mlen\u001b[39m(\u001b[38;5;28mself\u001b[39m.trials)\n\u001b[32m--> \u001b[39m\u001b[32m364\u001b[39m     \u001b[38;5;28;43mself\u001b[39;49m\u001b[43m.\u001b[49m\u001b[43mrun\u001b[49m\u001b[43m(\u001b[49m\u001b[38;5;28;43mself\u001b[39;49m\u001b[43m.\u001b[49m\u001b[43mmax_evals\u001b[49m\u001b[43m \u001b[49m\u001b[43m-\u001b[49m\u001b[43m \u001b[49m\u001b[43mn_done\u001b[49m\u001b[43m,\u001b[49m\u001b[43m \u001b[49m\u001b[43mblock_until_done\u001b[49m\u001b[43m=\u001b[49m\u001b[38;5;28;43mself\u001b[39;49m\u001b[43m.\u001b[49m\u001b[43masynchronous\u001b[49m\u001b[43m)\u001b[49m\n\u001b[32m    365\u001b[39m     \u001b[38;5;28mself\u001b[39m.trials.refresh()\n\u001b[32m    366\u001b[39m     \u001b[38;5;28;01mreturn\u001b[39;00m \u001b[38;5;28mself\u001b[39m\n",
      "\u001b[36mFile \u001b[39m\u001b[32md:\\Melbin\\SELF\\Customer_Lifetime_Value_Prediction\\.venv\\Lib\\site-packages\\hyperopt\\fmin.py:300\u001b[39m, in \u001b[36mFMinIter.run\u001b[39m\u001b[34m(self, N, block_until_done)\u001b[39m\n\u001b[32m    297\u001b[39m     time.sleep(\u001b[38;5;28mself\u001b[39m.poll_interval_secs)\n\u001b[32m    298\u001b[39m \u001b[38;5;28;01melse\u001b[39;00m:\n\u001b[32m    299\u001b[39m     \u001b[38;5;66;03m# -- loop over trials and do the jobs directly\u001b[39;00m\n\u001b[32m--> \u001b[39m\u001b[32m300\u001b[39m     \u001b[38;5;28;43mself\u001b[39;49m\u001b[43m.\u001b[49m\u001b[43mserial_evaluate\u001b[49m\u001b[43m(\u001b[49m\u001b[43m)\u001b[49m\n\u001b[32m    302\u001b[39m \u001b[38;5;28mself\u001b[39m.trials.refresh()\n\u001b[32m    303\u001b[39m \u001b[38;5;28;01mif\u001b[39;00m \u001b[38;5;28mself\u001b[39m.trials_save_file != \u001b[33m\"\u001b[39m\u001b[33m\"\u001b[39m:\n",
      "\u001b[36mFile \u001b[39m\u001b[32md:\\Melbin\\SELF\\Customer_Lifetime_Value_Prediction\\.venv\\Lib\\site-packages\\hyperopt\\fmin.py:178\u001b[39m, in \u001b[36mFMinIter.serial_evaluate\u001b[39m\u001b[34m(self, N)\u001b[39m\n\u001b[32m    176\u001b[39m ctrl = base.Ctrl(\u001b[38;5;28mself\u001b[39m.trials, current_trial=trial)\n\u001b[32m    177\u001b[39m \u001b[38;5;28;01mtry\u001b[39;00m:\n\u001b[32m--> \u001b[39m\u001b[32m178\u001b[39m     result = \u001b[38;5;28;43mself\u001b[39;49m\u001b[43m.\u001b[49m\u001b[43mdomain\u001b[49m\u001b[43m.\u001b[49m\u001b[43mevaluate\u001b[49m\u001b[43m(\u001b[49m\u001b[43mspec\u001b[49m\u001b[43m,\u001b[49m\u001b[43m \u001b[49m\u001b[43mctrl\u001b[49m\u001b[43m)\u001b[49m\n\u001b[32m    179\u001b[39m \u001b[38;5;28;01mexcept\u001b[39;00m \u001b[38;5;167;01mException\u001b[39;00m \u001b[38;5;28;01mas\u001b[39;00m e:\n\u001b[32m    180\u001b[39m     logger.error(\u001b[33m\"\u001b[39m\u001b[33mjob exception: \u001b[39m\u001b[38;5;132;01m%s\u001b[39;00m\u001b[33m\"\u001b[39m % \u001b[38;5;28mstr\u001b[39m(e))\n",
      "\u001b[36mFile \u001b[39m\u001b[32md:\\Melbin\\SELF\\Customer_Lifetime_Value_Prediction\\.venv\\Lib\\site-packages\\hyperopt\\base.py:892\u001b[39m, in \u001b[36mDomain.evaluate\u001b[39m\u001b[34m(self, config, ctrl, attach_attachments)\u001b[39m\n\u001b[32m    883\u001b[39m \u001b[38;5;28;01melse\u001b[39;00m:\n\u001b[32m    884\u001b[39m     \u001b[38;5;66;03m# -- the \"work\" of evaluating `config` can be written\u001b[39;00m\n\u001b[32m    885\u001b[39m     \u001b[38;5;66;03m#    either into the pyll part (self.expr)\u001b[39;00m\n\u001b[32m    886\u001b[39m     \u001b[38;5;66;03m#    or the normal Python part (self.fn)\u001b[39;00m\n\u001b[32m    887\u001b[39m     pyll_rval = pyll.rec_eval(\n\u001b[32m    888\u001b[39m         \u001b[38;5;28mself\u001b[39m.expr,\n\u001b[32m    889\u001b[39m         memo=memo,\n\u001b[32m    890\u001b[39m         print_node_on_error=\u001b[38;5;28mself\u001b[39m.rec_eval_print_node_on_error,\n\u001b[32m    891\u001b[39m     )\n\u001b[32m--> \u001b[39m\u001b[32m892\u001b[39m     rval = \u001b[38;5;28;43mself\u001b[39;49m\u001b[43m.\u001b[49m\u001b[43mfn\u001b[49m\u001b[43m(\u001b[49m\u001b[43mpyll_rval\u001b[49m\u001b[43m)\u001b[49m\n\u001b[32m    894\u001b[39m \u001b[38;5;28;01mif\u001b[39;00m \u001b[38;5;28misinstance\u001b[39m(rval, (\u001b[38;5;28mfloat\u001b[39m, \u001b[38;5;28mint\u001b[39m, np.number)):\n\u001b[32m    895\u001b[39m     dict_rval = {\u001b[33m\"\u001b[39m\u001b[33mloss\u001b[39m\u001b[33m\"\u001b[39m: \u001b[38;5;28mfloat\u001b[39m(rval), \u001b[33m\"\u001b[39m\u001b[33mstatus\u001b[39m\u001b[33m\"\u001b[39m: STATUS_OK}\n",
      "\u001b[36mCell\u001b[39m\u001b[36m \u001b[39m\u001b[32mIn[59]\u001b[39m\u001b[32m, line 3\u001b[39m, in \u001b[36mobjective\u001b[39m\u001b[34m(params)\u001b[39m\n\u001b[32m      1\u001b[39m \u001b[38;5;28;01mdef\u001b[39;00m\u001b[38;5;250m \u001b[39m\u001b[34mobjective\u001b[39m(params):\n\u001b[32m      2\u001b[39m     \u001b[38;5;66;03m## MLFlow will track the parameters and results for each run\u001b[39;00m\n\u001b[32m----> \u001b[39m\u001b[32m3\u001b[39m     result = \u001b[43mtrain_model\u001b[49m\u001b[43m(\u001b[49m\n\u001b[32m      4\u001b[39m \u001b[43m        \u001b[49m\u001b[43mparams\u001b[49m\u001b[43m,\u001b[49m\n\u001b[32m      5\u001b[39m \u001b[43m        \u001b[49m\u001b[43mepochs\u001b[49m\u001b[43m \u001b[49m\u001b[43m=\u001b[49m\u001b[32;43m3\u001b[39;49m\u001b[43m,\u001b[49m\n\u001b[32m      6\u001b[39m \u001b[43m        \u001b[49m\u001b[43mtrain_x\u001b[49m\u001b[43m \u001b[49m\u001b[43m=\u001b[49m\u001b[43m \u001b[49m\u001b[43mnp\u001b[49m\u001b[43m.\u001b[49m\u001b[43marray\u001b[49m\u001b[43m(\u001b[49m\u001b[43mtrain_x\u001b[49m\u001b[43m)\u001b[49m\u001b[43m,\u001b[49m\n\u001b[32m      7\u001b[39m \u001b[43m        \u001b[49m\u001b[43mvalid_x\u001b[49m\u001b[43m \u001b[49m\u001b[43m=\u001b[49m\u001b[43m \u001b[49m\u001b[43mnp\u001b[49m\u001b[43m.\u001b[49m\u001b[43marray\u001b[49m\u001b[43m(\u001b[49m\u001b[43mvalid_x\u001b[49m\u001b[43m)\u001b[49m\u001b[43m,\u001b[49m\n\u001b[32m      8\u001b[39m \u001b[43m        \u001b[49m\u001b[43mtest_x\u001b[49m\u001b[43m \u001b[49m\u001b[43m=\u001b[49m\u001b[43m \u001b[49m\u001b[43mnp\u001b[49m\u001b[43m.\u001b[49m\u001b[43marray\u001b[49m\u001b[43m(\u001b[49m\u001b[43mtest_x\u001b[49m\u001b[43m)\u001b[49m\u001b[43m,\u001b[49m\n\u001b[32m      9\u001b[39m \u001b[43m        \u001b[49m\u001b[43mtrain_y\u001b[49m\u001b[43m \u001b[49m\u001b[43m=\u001b[49m\u001b[43m \u001b[49m\u001b[43mnp\u001b[49m\u001b[43m.\u001b[49m\u001b[43marray\u001b[49m\u001b[43m(\u001b[49m\u001b[43mtrain_y\u001b[49m\u001b[43m)\u001b[49m\u001b[43m,\u001b[49m\n\u001b[32m     10\u001b[39m \u001b[43m        \u001b[49m\u001b[43mvalid_y\u001b[49m\u001b[43m \u001b[49m\u001b[43m=\u001b[49m\u001b[43m \u001b[49m\u001b[43mnp\u001b[49m\u001b[43m.\u001b[49m\u001b[43marray\u001b[49m\u001b[43m(\u001b[49m\u001b[43mvalid_y\u001b[49m\u001b[43m)\u001b[49m\u001b[43m,\u001b[49m\n\u001b[32m     11\u001b[39m \u001b[43m        \u001b[49m\u001b[43mtest_y\u001b[49m\u001b[43m \u001b[49m\u001b[43m=\u001b[49m\u001b[43m \u001b[49m\u001b[43mnp\u001b[49m\u001b[43m.\u001b[49m\u001b[43marray\u001b[49m\u001b[43m(\u001b[49m\u001b[43mtest_y\u001b[49m\u001b[43m)\u001b[49m\u001b[43m,\u001b[49m\n\u001b[32m     12\u001b[39m \n\u001b[32m     13\u001b[39m \n\u001b[32m     14\u001b[39m \u001b[43m    \u001b[49m\u001b[43m)\u001b[49m\n\u001b[32m     15\u001b[39m     \u001b[38;5;28;01mreturn\u001b[39;00m result\n",
      "\u001b[36mCell\u001b[39m\u001b[36m \u001b[39m\u001b[32mIn[58]\u001b[39m\u001b[32m, line 4\u001b[39m, in \u001b[36mtrain_model\u001b[39m\u001b[34m(param, epochs, train_x, train_y, valid_x, valid_y, test_x, test_y)\u001b[39m\n\u001b[32m      1\u001b[39m \u001b[38;5;28;01mdef\u001b[39;00m\u001b[38;5;250m \u001b[39m\u001b[34mtrain_model\u001b[39m(param, epochs, train_x, train_y, valid_x, valid_y, test_x, test_y):\n\u001b[32m      2\u001b[39m \n\u001b[32m      3\u001b[39m     \u001b[38;5;66;03m## Define model Architecture\u001b[39;00m\n\u001b[32m----> \u001b[39m\u001b[32m4\u001b[39m     mean= \u001b[43mnp\u001b[49m\u001b[43m.\u001b[49m\u001b[43mmean\u001b[49m\u001b[43m(\u001b[49m\u001b[43mtrain_x\u001b[49m\u001b[43m,\u001b[49m\u001b[43m \u001b[49m\u001b[43maxis\u001b[49m\u001b[43m=\u001b[49m\u001b[32;43m0\u001b[39;49m\u001b[43m)\u001b[49m                              \u001b[38;5;66;03m##Normalization\u001b[39;00m\n\u001b[32m      5\u001b[39m     var=np.var(train_x,axis=\u001b[32m0\u001b[39m)\n\u001b[32m      7\u001b[39m     model=keras.Sequential(\n\u001b[32m      8\u001b[39m     [\n\u001b[32m      9\u001b[39m         keras.Input([train_x.shape[\u001b[32m1\u001b[39m]]),                        \u001b[38;5;66;03m##Input shape {Number of columns}\u001b[39;00m\n\u001b[32m   (...)\u001b[39m\u001b[32m     12\u001b[39m         keras.layers.Dense(\u001b[32m1\u001b[39m)                                   \u001b[38;5;66;03m## Output Layer {1 output layer}\u001b[39;00m\n\u001b[32m     13\u001b[39m     ])\n",
      "\u001b[36mFile \u001b[39m\u001b[32md:\\Melbin\\SELF\\Customer_Lifetime_Value_Prediction\\.venv\\Lib\\site-packages\\numpy\\_core\\fromnumeric.py:3904\u001b[39m, in \u001b[36mmean\u001b[39m\u001b[34m(a, axis, dtype, out, keepdims, where)\u001b[39m\n\u001b[32m   3901\u001b[39m     \u001b[38;5;28;01melse\u001b[39;00m:\n\u001b[32m   3902\u001b[39m         \u001b[38;5;28;01mreturn\u001b[39;00m mean(axis=axis, dtype=dtype, out=out, **kwargs)\n\u001b[32m-> \u001b[39m\u001b[32m3904\u001b[39m \u001b[38;5;28;01mreturn\u001b[39;00m \u001b[43m_methods\u001b[49m\u001b[43m.\u001b[49m\u001b[43m_mean\u001b[49m\u001b[43m(\u001b[49m\u001b[43ma\u001b[49m\u001b[43m,\u001b[49m\u001b[43m \u001b[49m\u001b[43maxis\u001b[49m\u001b[43m=\u001b[49m\u001b[43maxis\u001b[49m\u001b[43m,\u001b[49m\u001b[43m \u001b[49m\u001b[43mdtype\u001b[49m\u001b[43m=\u001b[49m\u001b[43mdtype\u001b[49m\u001b[43m,\u001b[49m\n\u001b[32m   3905\u001b[39m \u001b[43m                      \u001b[49m\u001b[43mout\u001b[49m\u001b[43m=\u001b[49m\u001b[43mout\u001b[49m\u001b[43m,\u001b[49m\u001b[43m \u001b[49m\u001b[43m*\u001b[49m\u001b[43m*\u001b[49m\u001b[43mkwargs\u001b[49m\u001b[43m)\u001b[49m\n",
      "\u001b[36mFile \u001b[39m\u001b[32md:\\Melbin\\SELF\\Customer_Lifetime_Value_Prediction\\.venv\\Lib\\site-packages\\numpy\\_core\\_methods.py:139\u001b[39m, in \u001b[36m_mean\u001b[39m\u001b[34m(a, axis, dtype, out, keepdims, where)\u001b[39m\n\u001b[32m    137\u001b[39m \u001b[38;5;28;01mif\u001b[39;00m \u001b[38;5;28misinstance\u001b[39m(ret, mu.ndarray):\n\u001b[32m    138\u001b[39m     \u001b[38;5;28;01mwith\u001b[39;00m _no_nep50_warning():\n\u001b[32m--> \u001b[39m\u001b[32m139\u001b[39m         ret = \u001b[43mum\u001b[49m\u001b[43m.\u001b[49m\u001b[43mtrue_divide\u001b[49m\u001b[43m(\u001b[49m\n\u001b[32m    140\u001b[39m \u001b[43m                \u001b[49m\u001b[43mret\u001b[49m\u001b[43m,\u001b[49m\u001b[43m \u001b[49m\u001b[43mrcount\u001b[49m\u001b[43m,\u001b[49m\u001b[43m \u001b[49m\u001b[43mout\u001b[49m\u001b[43m=\u001b[49m\u001b[43mret\u001b[49m\u001b[43m,\u001b[49m\u001b[43m \u001b[49m\u001b[43mcasting\u001b[49m\u001b[43m=\u001b[49m\u001b[33;43m'\u001b[39;49m\u001b[33;43munsafe\u001b[39;49m\u001b[33;43m'\u001b[39;49m\u001b[43m,\u001b[49m\u001b[43m \u001b[49m\u001b[43msubok\u001b[49m\u001b[43m=\u001b[49m\u001b[38;5;28;43;01mFalse\u001b[39;49;00m\u001b[43m)\u001b[49m\n\u001b[32m    141\u001b[39m     \u001b[38;5;28;01mif\u001b[39;00m is_float16_result \u001b[38;5;129;01mand\u001b[39;00m out \u001b[38;5;129;01mis\u001b[39;00m \u001b[38;5;28;01mNone\u001b[39;00m:\n\u001b[32m    142\u001b[39m         ret = arr.dtype.type(ret)\n",
      "\u001b[31mTypeError\u001b[39m: unsupported operand type(s) for /: 'str' and 'int'"
     ]
    }
   ],
   "source": [
    "mlflow.set_experiment(\"/customer-life-value-predicion\")\n",
    "with mlflow.start_run():\n",
    "    # Conduct the hyperparameter search using Hyperopt\n",
    "    trials= Trials()\n",
    "    best=fmin(\n",
    "        fn=objective,\n",
    "        space=space,\n",
    "        algo=tpe.suggest,\n",
    "        max_evals=4,\n",
    "        trials=trials\n",
    "    )\n",
    "    \n",
    "    \n",
    "    # featch the details of the best run\n",
    "    best_run = sorted(trials.results, key=lambda x:x[\"loss\"])[0]\n",
    "    \n",
    "    # Log the best parameters, loss, and model\n",
    "    mlflow.log_params(best)\n",
    "    mlflow.log_metric(\"eval_rmse\", best_run[\"loss\"])\n",
    "    mlflow.tensorflow.log_model(best_run[\"model\"], \"model\", signature= signature)\n",
    "    mlflow.set_tracking_uri(\"http://127.0.0.1:5000\")\n",
    "    \n",
    "    # Print out the best parameters and corresponding loss\n",
    "    print(f\"Best parameters: {best}\")\n",
    "    print(f\"Best eval rmse: {best_run['loss']}\")\n",
    "    "
   ]
  },
  {
   "cell_type": "code",
   "execution_count": null,
   "id": "957da524-adaa-43d0-b257-4e579cf0b25e",
   "metadata": {},
   "outputs": [],
   "source": []
  }
 ],
 "metadata": {
  "kernelspec": {
   "display_name": ".venv",
   "language": "python",
   "name": "python3"
  },
  "language_info": {
   "codemirror_mode": {
    "name": "ipython",
    "version": 3
   },
   "file_extension": ".py",
   "mimetype": "text/x-python",
   "name": "python",
   "nbconvert_exporter": "python",
   "pygments_lexer": "ipython3",
   "version": "3.12.7"
  }
 },
 "nbformat": 4,
 "nbformat_minor": 5
}
